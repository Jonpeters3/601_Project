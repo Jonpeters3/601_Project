{
 "cells": [
  {
   "cell_type": "code",
   "execution_count": 7,
   "id": "65f19659",
   "metadata": {},
   "outputs": [],
   "source": [
    "import numpy as np\n",
    "import pandas as pd\n",
    "import matplotlib.pyplot as plt"
   ]
  },
  {
   "cell_type": "code",
   "execution_count": 40,
   "id": "f160f16b",
   "metadata": {},
   "outputs": [
    {
     "name": "stderr",
     "output_type": "stream",
     "text": [
      "c:\\users\\jonpe\\appdata\\local\\programs\\python\\python39\\lib\\site-packages\\openpyxl\\worksheet\\_reader.py:312: UserWarning: Data Validation extension is not supported and will be removed\n",
      "  warn(msg)\n"
     ]
    },
    {
     "data": {
      "text/html": [
       "<div>\n",
       "<style scoped>\n",
       "    .dataframe tbody tr th:only-of-type {\n",
       "        vertical-align: middle;\n",
       "    }\n",
       "\n",
       "    .dataframe tbody tr th {\n",
       "        vertical-align: top;\n",
       "    }\n",
       "\n",
       "    .dataframe thead th {\n",
       "        text-align: right;\n",
       "    }\n",
       "</style>\n",
       "<table border=\"1\" class=\"dataframe\">\n",
       "  <thead>\n",
       "    <tr style=\"text-align: right;\">\n",
       "      <th></th>\n",
       "      <th>Hospital type</th>\n",
       "      <th>Province/territory</th>\n",
       "      <th>Median length of stay \\n(days)</th>\n",
       "      <th>Average length of stay \\n(days)</th>\n",
       "      <th>0.5% trimmed average \\n(days)</th>\n",
       "      <th>Total length of stay \\n(days)</th>\n",
       "    </tr>\n",
       "  </thead>\n",
       "  <tbody>\n",
       "    <tr>\n",
       "      <th>0</th>\n",
       "      <td>General hospitals</td>\n",
       "      <td>Newfoundland and Labrador</td>\n",
       "      <td>6</td>\n",
       "      <td>14.22</td>\n",
       "      <td>12.93</td>\n",
       "      <td>26157</td>\n",
       "    </tr>\n",
       "    <tr>\n",
       "      <th>1</th>\n",
       "      <td>General hospitals</td>\n",
       "      <td>Prince Edward Island</td>\n",
       "      <td>7</td>\n",
       "      <td>13.56</td>\n",
       "      <td>12.46</td>\n",
       "      <td>16310</td>\n",
       "    </tr>\n",
       "    <tr>\n",
       "      <th>2</th>\n",
       "      <td>General hospitals</td>\n",
       "      <td>Nova Scotia</td>\n",
       "      <td>6</td>\n",
       "      <td>14.57</td>\n",
       "      <td>13.44</td>\n",
       "      <td>57417</td>\n",
       "    </tr>\n",
       "    <tr>\n",
       "      <th>3</th>\n",
       "      <td>General hospitals</td>\n",
       "      <td>New Brunswick</td>\n",
       "      <td>7</td>\n",
       "      <td>14.24</td>\n",
       "      <td>12.28</td>\n",
       "      <td>63929</td>\n",
       "    </tr>\n",
       "    <tr>\n",
       "      <th>4</th>\n",
       "      <td>General hospitals</td>\n",
       "      <td>Quebec</td>\n",
       "      <td>6</td>\n",
       "      <td>16.73</td>\n",
       "      <td>15.16</td>\n",
       "      <td>640697</td>\n",
       "    </tr>\n",
       "  </tbody>\n",
       "</table>\n",
       "</div>"
      ],
      "text/plain": [
       "       Hospital type         Province/territory  \\\n",
       "0  General hospitals  Newfoundland and Labrador   \n",
       "1  General hospitals       Prince Edward Island   \n",
       "2  General hospitals                Nova Scotia   \n",
       "3  General hospitals              New Brunswick   \n",
       "4  General hospitals                     Quebec   \n",
       "\n",
       "  Median length of stay \\n(days) Average length of stay \\n(days)  \\\n",
       "0                              6                           14.22   \n",
       "1                              7                           13.56   \n",
       "2                              6                           14.57   \n",
       "3                              7                           14.24   \n",
       "4                              6                           16.73   \n",
       "\n",
       "  0.5% trimmed average \\n(days) Total length of stay \\n(days)  \n",
       "0                         12.93                         26157  \n",
       "1                         12.46                         16310  \n",
       "2                         13.44                         57417  \n",
       "3                         12.28                         63929  \n",
       "4                         15.16                        640697  "
      ]
     },
     "execution_count": 40,
     "metadata": {},
     "output_type": "execute_result"
    }
   ],
   "source": [
    "MH = pd.read_excel(\"HMHDB_Mental_Health.xlsx\", sheet_name=\"4 Combined LOS prov terr\")\n",
    "MH.rename(columns=dict(MH.loc[3,]), inplace = True)\n",
    "MH = MH.iloc[4:46]\n",
    "MH.dropna(axis=1, inplace = True)\n",
    "MH.reset_index(drop = True, inplace = True)\n",
    "MH.head()"
   ]
  }
 ],
 "metadata": {
  "kernelspec": {
   "display_name": "Python 3",
   "language": "python",
   "name": "python3"
  },
  "language_info": {
   "codemirror_mode": {
    "name": "ipython",
    "version": 3
   },
   "file_extension": ".py",
   "mimetype": "text/x-python",
   "name": "python",
   "nbconvert_exporter": "python",
   "pygments_lexer": "ipython3",
   "version": "3.9.6"
  }
 },
 "nbformat": 4,
 "nbformat_minor": 5
}
