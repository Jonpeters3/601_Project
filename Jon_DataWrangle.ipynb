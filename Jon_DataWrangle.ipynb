{
 "cells": [
  {
   "cell_type": "code",
   "execution_count": 1,
   "id": "c95fa54c",
   "metadata": {},
   "outputs": [],
   "source": [
    "import pandas as pd\n",
    "import numpy as np\n",
    "import os\n",
    "\n",
    "import ipywidgets as widgets\n",
    "from ipywidgets import interact\n",
    "import plotly.graph_objs as go"
   ]
  },
  {
   "cell_type": "code",
   "execution_count": 2,
   "id": "f0e6b9bd",
   "metadata": {},
   "outputs": [
    {
     "name": "stderr",
     "output_type": "stream",
     "text": [
      "<ipython-input-2-781fdabfc879>:10: SettingWithCopyWarning: \n",
      "A value is trying to be set on a copy of a slice from a DataFrame.\n",
      "Try using .loc[row_indexer,col_indexer] = value instead\n",
      "\n",
      "See the caveats in the documentation: https://pandas.pydata.org/pandas-docs/stable/user_guide/indexing.html#returning-a-view-versus-a-copy\n",
      "  tempDF['Pop'] = 'Population'\n",
      "<ipython-input-2-781fdabfc879>:13: SettingWithCopyWarning: \n",
      "A value is trying to be set on a copy of a slice from a DataFrame.\n",
      "Try using .loc[row_indexer,col_indexer] = value instead\n",
      "\n",
      "See the caveats in the documentation: https://pandas.pydata.org/pandas-docs/stable/user_guide/indexing.html#returning-a-view-versus-a-copy\n",
      "  tempDF['Sector'] = files.split('.')[0]\n"
     ]
    }
   ],
   "source": [
    "econDF = pd.DataFrame(columns=['When','Alberta', 'Sector'])\n",
    "\n",
    "for files in os.listdir(\"Economic\"):\n",
    "    df = pd.read_csv(\"Economic/\" + files)\n",
    "    df['When'] = pd.to_datetime(df['When'])\n",
    "    tempDF = df[[\"When\", \"Alberta\"]] # Get When and Alberta columns\n",
    "    if files != 'Population.csv':\n",
    "        tempDF = tempDF.join(df.iloc[:,2], lsuffix='_left', rsuffix='_right') # Get second column\n",
    "    else:\n",
    "        tempDF['Pop'] = 'Population'\n",
    "        \n",
    "    tempDF.columns = [\"When\", \"Alberta\", \"SubSector\"]\n",
    "    tempDF['Sector'] = files.split('.')[0]\n",
    "    econDF = econDF.append(tempDF) # append to final df"
   ]
  },
  {
   "cell_type": "code",
   "execution_count": null,
   "id": "d8cec4e3",
   "metadata": {},
   "outputs": [],
   "source": []
  },
  {
   "cell_type": "code",
   "execution_count": 3,
   "id": "e2aa743f",
   "metadata": {},
   "outputs": [],
   "source": [
    "econDF['Month'] = econDF['When'].dt.month\n",
    "econDF['Day'] = econDF['When'].dt.day\n",
    "econDF['Year'] = econDF['When'].dt.year"
   ]
  },
  {
   "cell_type": "code",
   "execution_count": 4,
   "id": "cd4a0a56",
   "metadata": {},
   "outputs": [
    {
     "data": {
      "text/html": [
       "<div>\n",
       "<style scoped>\n",
       "    .dataframe tbody tr th:only-of-type {\n",
       "        vertical-align: middle;\n",
       "    }\n",
       "\n",
       "    .dataframe tbody tr th {\n",
       "        vertical-align: top;\n",
       "    }\n",
       "\n",
       "    .dataframe thead th {\n",
       "        text-align: right;\n",
       "    }\n",
       "</style>\n",
       "<table border=\"1\" class=\"dataframe\">\n",
       "  <thead>\n",
       "    <tr style=\"text-align: right;\">\n",
       "      <th></th>\n",
       "      <th>When</th>\n",
       "      <th>Alberta</th>\n",
       "      <th>Sector</th>\n",
       "      <th>SubSector</th>\n",
       "      <th>Month</th>\n",
       "      <th>Day</th>\n",
       "      <th>Year</th>\n",
       "    </tr>\n",
       "  </thead>\n",
       "  <tbody>\n",
       "    <tr>\n",
       "      <th>0</th>\n",
       "      <td>1985-01-01</td>\n",
       "      <td>81.15</td>\n",
       "      <td>CattlePrice</td>\n",
       "      <td>Slaughter, calves</td>\n",
       "      <td>1</td>\n",
       "      <td>1</td>\n",
       "      <td>1985</td>\n",
       "    </tr>\n",
       "    <tr>\n",
       "      <th>1</th>\n",
       "      <td>1985-01-01</td>\n",
       "      <td>69.88</td>\n",
       "      <td>CattlePrice</td>\n",
       "      <td>Slaughter, cattle</td>\n",
       "      <td>1</td>\n",
       "      <td>1</td>\n",
       "      <td>1985</td>\n",
       "    </tr>\n",
       "    <tr>\n",
       "      <th>2</th>\n",
       "      <td>1985-01-01</td>\n",
       "      <td>69.53</td>\n",
       "      <td>CattlePrice</td>\n",
       "      <td>Hogs</td>\n",
       "      <td>1</td>\n",
       "      <td>1</td>\n",
       "      <td>1985</td>\n",
       "    </tr>\n",
       "    <tr>\n",
       "      <th>3</th>\n",
       "      <td>1985-02-01</td>\n",
       "      <td>82.94</td>\n",
       "      <td>CattlePrice</td>\n",
       "      <td>Slaughter, calves</td>\n",
       "      <td>2</td>\n",
       "      <td>1</td>\n",
       "      <td>1985</td>\n",
       "    </tr>\n",
       "    <tr>\n",
       "      <th>4</th>\n",
       "      <td>1985-02-01</td>\n",
       "      <td>71.24</td>\n",
       "      <td>CattlePrice</td>\n",
       "      <td>Slaughter, cattle</td>\n",
       "      <td>2</td>\n",
       "      <td>1</td>\n",
       "      <td>1985</td>\n",
       "    </tr>\n",
       "  </tbody>\n",
       "</table>\n",
       "</div>"
      ],
      "text/plain": [
       "        When  Alberta       Sector          SubSector  Month  Day  Year\n",
       "0 1985-01-01    81.15  CattlePrice  Slaughter, calves      1    1  1985\n",
       "1 1985-01-01    69.88  CattlePrice  Slaughter, cattle      1    1  1985\n",
       "2 1985-01-01    69.53  CattlePrice               Hogs      1    1  1985\n",
       "3 1985-02-01    82.94  CattlePrice  Slaughter, calves      2    1  1985\n",
       "4 1985-02-01    71.24  CattlePrice  Slaughter, cattle      2    1  1985"
      ]
     },
     "metadata": {},
     "output_type": "display_data"
    },
    {
     "data": {
      "text/html": [
       "<div>\n",
       "<style scoped>\n",
       "    .dataframe tbody tr th:only-of-type {\n",
       "        vertical-align: middle;\n",
       "    }\n",
       "\n",
       "    .dataframe tbody tr th {\n",
       "        vertical-align: top;\n",
       "    }\n",
       "\n",
       "    .dataframe thead th {\n",
       "        text-align: right;\n",
       "    }\n",
       "</style>\n",
       "<table border=\"1\" class=\"dataframe\">\n",
       "  <thead>\n",
       "    <tr style=\"text-align: right;\">\n",
       "      <th></th>\n",
       "      <th>When</th>\n",
       "      <th>Alberta</th>\n",
       "      <th>Sector</th>\n",
       "      <th>SubSector</th>\n",
       "      <th>Month</th>\n",
       "      <th>Day</th>\n",
       "      <th>Year</th>\n",
       "    </tr>\n",
       "  </thead>\n",
       "  <tbody>\n",
       "    <tr>\n",
       "      <th>4935</th>\n",
       "      <td>2021-07-01</td>\n",
       "      <td>1506.23</td>\n",
       "      <td>WeeklyIncome</td>\n",
       "      <td>Public administration</td>\n",
       "      <td>7</td>\n",
       "      <td>1</td>\n",
       "      <td>2021</td>\n",
       "    </tr>\n",
       "    <tr>\n",
       "      <th>4936</th>\n",
       "      <td>2021-07-01</td>\n",
       "      <td>1328.57</td>\n",
       "      <td>WeeklyIncome</td>\n",
       "      <td>Real estate and rental and leasing</td>\n",
       "      <td>7</td>\n",
       "      <td>1</td>\n",
       "      <td>2021</td>\n",
       "    </tr>\n",
       "    <tr>\n",
       "      <th>4937</th>\n",
       "      <td>2021-07-01</td>\n",
       "      <td>922.39</td>\n",
       "      <td>WeeklyIncome</td>\n",
       "      <td>Trade</td>\n",
       "      <td>7</td>\n",
       "      <td>1</td>\n",
       "      <td>2021</td>\n",
       "    </tr>\n",
       "    <tr>\n",
       "      <th>4938</th>\n",
       "      <td>2021-07-01</td>\n",
       "      <td>1361.01</td>\n",
       "      <td>WeeklyIncome</td>\n",
       "      <td>Transportation and warehousing</td>\n",
       "      <td>7</td>\n",
       "      <td>1</td>\n",
       "      <td>2021</td>\n",
       "    </tr>\n",
       "    <tr>\n",
       "      <th>4939</th>\n",
       "      <td>2021-07-01</td>\n",
       "      <td>1954.83</td>\n",
       "      <td>WeeklyIncome</td>\n",
       "      <td>Utilities</td>\n",
       "      <td>7</td>\n",
       "      <td>1</td>\n",
       "      <td>2021</td>\n",
       "    </tr>\n",
       "  </tbody>\n",
       "</table>\n",
       "</div>"
      ],
      "text/plain": [
       "           When  Alberta        Sector                           SubSector  \\\n",
       "4935 2021-07-01  1506.23  WeeklyIncome               Public administration   \n",
       "4936 2021-07-01  1328.57  WeeklyIncome  Real estate and rental and leasing   \n",
       "4937 2021-07-01   922.39  WeeklyIncome                               Trade   \n",
       "4938 2021-07-01  1361.01  WeeklyIncome      Transportation and warehousing   \n",
       "4939 2021-07-01  1954.83  WeeklyIncome                           Utilities   \n",
       "\n",
       "      Month  Day  Year  \n",
       "4935      7    1  2021  \n",
       "4936      7    1  2021  \n",
       "4937      7    1  2021  \n",
       "4938      7    1  2021  \n",
       "4939      7    1  2021  "
      ]
     },
     "metadata": {},
     "output_type": "display_data"
    }
   ],
   "source": [
    "display(econDF.head())\n",
    "display(econDF.tail())"
   ]
  },
  {
   "cell_type": "code",
   "execution_count": 5,
   "id": "e05235c6",
   "metadata": {},
   "outputs": [],
   "source": []
  },
  {
   "cell_type": "code",
   "execution_count": 6,
   "id": "ba902906",
   "metadata": {},
   "outputs": [
    {
     "data": {
      "application/vnd.jupyter.widget-view+json": {
       "model_id": "69d8ec7be00d4e3fbd2301d1a2ca4cf0",
       "version_major": 2,
       "version_minor": 0
      },
      "text/plain": [
       "interactive(children=(Dropdown(description='sector', options=('Slaughter, calves (CattlePrice)', 'Slaughter, c…"
      ]
     },
     "metadata": {},
     "output_type": "display_data"
    },
    {
     "data": {
      "application/vnd.jupyter.widget-view+json": {
       "model_id": "c3d81849a5e84725bb09626a25b3370d",
       "version_major": 2,
       "version_minor": 0
      },
      "text/plain": [
       "FigureWidget({\n",
       "    'data': [{'type': 'bar',\n",
       "              'uid': 'a37ce9c9-e554-459f-a8f7-ba406a8a476e',\n",
       "     …"
      ]
     },
     "metadata": {},
     "output_type": "display_data"
    }
   ],
   "source": [
    "graphDF = econDF.groupby(['Year', 'Month', 'Sector']).mean().drop('Day', axis = 1)\n",
    "\n",
    "# Now let's explore the data with the help of a drop-down interactor.\n",
    "\n",
    "# Build a bar chart that we'll then update with the help of a call-back function\n",
    "bar = go.Bar()\n",
    "fig_bar = go.FigureWidget(data=bar)\n",
    "#fig_bar.update_yaxes(range=[0, 250])\n",
    "\n",
    "month_labels = {1:'Jan',2:'Feb',3:'Mar',4:'Apr',5:'May', 6:'Jun', 7:'Jul', 8:'Aug', 9:'Sep', 10:'Oct', 11:'Nov', 12:'Dec'}\n",
    "\n",
    "# A list passed to interact() will yield a drop-down interactor\n",
    "@interact(year=[*range(max(econDF['Year']),min(econDF['Year']),-1)],\n",
    "          sector = list(econDF['Sector2'].unique()))\n",
    "\n",
    "def update_bar(sector, year=2019):\n",
    "    graphDF =  econDF[econDF['Sector2'] == sector]\n",
    "    graphDF = graphDF.groupby(['Year', 'Month']).mean().drop('Day', axis = 1)\n",
    "\n",
    "    data = graphDF.loc[year].mean(axis=1,skipna=True)\n",
    "    fig_bar.update_traces(x=pd.Series(data.index.values).values, #.map(month_labels).values,\n",
    "                          y=data.values)\n",
    "    fig_bar.update_layout(title_text=\"{0} results for {1}\".format(sector, year))\n",
    "\n",
    "fig_bar"
   ]
  },
  {
   "cell_type": "code",
   "execution_count": 7,
   "id": "ff53d275",
   "metadata": {},
   "outputs": [
    {
     "data": {
      "application/vnd.jupyter.widget-view+json": {
       "model_id": "f1fade888a5a46f5a6ddcf866756c759",
       "version_major": 2,
       "version_minor": 0
      },
      "text/plain": [
       "interactive(children=(Dropdown(description='sector', options=('CattlePrice', 'NetMigration', 'Population', 'Pr…"
      ]
     },
     "metadata": {},
     "output_type": "display_data"
    },
    {
     "data": {
      "application/vnd.jupyter.widget-view+json": {
       "model_id": "d42a8ffa86d54ea4a2e46fba9b4032b8",
       "version_major": 2,
       "version_minor": 0
      },
      "text/plain": [
       "FigureWidget({\n",
       "    'data': [{'type': 'scatter',\n",
       "              'uid': 'aeaed5b8-6e32-452b-935b-babd4cb6e31d',\n",
       " …"
      ]
     },
     "metadata": {},
     "output_type": "display_data"
    }
   ],
   "source": [
    "#econDF['Sector2'] = econDF['SubSector'] + \" (\" + econDF['Sector'] + \")\"\n",
    "\n",
    "graphDF2 = econDF.groupby(['Year', 'Month', 'Sector']).mean().drop('Day', axis = 1)\n",
    "\n",
    "# Now let's explore the data with the help of a drop-down interactor.\n",
    "\n",
    "# Build a bar chart that we'll then update with the help of a call-back function\n",
    "bar = go.Scatter()\n",
    "fig_bar = go.FigureWidget(data=bar)\n",
    "#fig_bar.update_yaxes(range=[0, 250])\n",
    "\n",
    "month_labels = {1:'Jan',2:'Feb',3:'Mar',4:'Apr',5:'May', 6:'Jun', 7:'Jul', 8:'Aug', 9:'Sep', 10:'Oct', 11:'Nov', 12:'Dec'}\n",
    "\n",
    "# A list passed to interact() will yield a drop-down interactor\n",
    "@interact(sector = list(econDF['Sector'].unique()))\n",
    "\n",
    "def update_bar(sector):\n",
    "    \n",
    "    graphDF2 = econDF[econDF['Sector'] == sector]\n",
    "    graphDF2 = graphDF2.groupby(['Year', 'SubSector']).mean().drop(['Day', 'Month'], axis = 1)\n",
    "    graphDF2.reset_index(inplace = True)\n",
    "    data = graphDF2\n",
    "    fig_bar.update_traces(x=[max(data['Year']),max(data['Year'])],\n",
    "                       y=[max(data['Alberta']),max(data['Alberta'])])\n",
    "    \n",
    "    for subsector in data['SubSector'].unique():\n",
    "        data1 = data[data['SubSector'] == subsector]\n",
    "        fig_bar.add_trace(\n",
    "            go.Scatter(x=data1['Year'],\n",
    "                       y=data1['Alberta'],\n",
    "                      name = subsector))\n",
    "        \n",
    "    fig_bar.update_layout(title_text=\"{0} results\".format(sector))\n",
    "    fig_bar.update_layout(showlegend=False)\n",
    "\n",
    "fig_bar"
   ]
  }
 ],
 "metadata": {
  "kernelspec": {
   "display_name": "Python 3",
   "language": "python",
   "name": "python3"
  },
  "language_info": {
   "codemirror_mode": {
    "name": "ipython",
    "version": 3
   },
   "file_extension": ".py",
   "mimetype": "text/x-python",
   "name": "python",
   "nbconvert_exporter": "python",
   "pygments_lexer": "ipython3",
   "version": "3.9.6"
  }
 },
 "nbformat": 4,
 "nbformat_minor": 5
}
