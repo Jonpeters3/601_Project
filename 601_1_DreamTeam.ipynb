{
 "cells": [
  {
   "cell_type": "markdown",
   "id": "815156d6",
   "metadata": {},
   "source": [
    "## Investigating Relationships Between The Backdrop of Provincial Economic Volatility and Wider Mental Health in Alberta:\n",
    "\n",
    "\n",
    "##### Introduction\n",
    "Our proposed digital exploration will analyze the linkage between economic factors and mental health trends within the wider Alberta population. The Mental Health Commission of Canada conducted an economic review in 2011 and provided an estimate of the impact of mental health illnesses on lost productivity due to absenteeism, presenteeism (present but less than fully productive at work) and turnover;  in 2011 alone, the cost to the economy was 6.3 billion dollars. This value is projected to rise to 16 billion dollars in 2041. In any given year, 1 in 5 Canadians experiences a mental illness or addiction problem and by the time Canadians reach 40 years of age, 1 in 2 have, or have had, a mental illness. This means that more than 6.7 million people in Canada are living with a mental health problem or illness today. That is 19.8% of Canada’s population in any given year. (*Why Investing In Mental Health Will Contribute To Canada’s Economic Prosperity and To the Sustainability of Our Healthcare System*, 2021, pp. 2-3) It is likely that because there is stigma attached to harbouring a mental health diagnosis, that reported metrics are understated.  According to the World Health Organization (WHO) the incidence of mental illness is expected to rise as economic drivers become increasingly dynamic, and the “gig economy” becomes more commonplace. (*Mental health action plan*, 2013, pp. 6-7) The collective provincial population would benefit vastly from applied data analytics in order to address the compounding mental health crisis that is ongoing within the province. It is possible that in the future, applied analytics will be able to guide policy makers to utilize provincially budgeted resources in a more targeted and efficient manner. (Smetanin et al, 2011, pp. 45 -55) \n",
    "\n",
    "On an aggregate level, it is well documented that the relationship between economic inequality and mental health exists, but despite this, a reductionist biomedical model assessing mental health on an individual and physiological basis has persisted within the academic medical community. This has limited the ability of corporate entities and policy makers to address inequalities within the mental health sphere. (Macintyre et al, 2018, p. 4)  Another driving factor of mental health inequality has been economic volatility. The province of Alberta has experienced significant economic hardship following the collapse of Western Canadian Select (WCS)  oil prices and NOVA/AECO-C gas prices in 2014. The new commodity price environment also spurred a wider thematic global investment shift away from the energy industry and mounted pressure on corporate entities to support ESG driven narratives.\n",
    "\n",
    "##### Guiding Questions\n",
    "Our analysis will look to capture the essence of economic reality which exists within municipalities and the wider province, and overlay that theme with mental health related data. The analysis will attempt to answer three core questions: \n",
    "\n",
    "- Is there an identifiable relationship between the dynamic economic situation of the province and the wider mental health trend within Alberta?\n",
    "- Which subpopulations have been the most adversely affected by the economic volatility in Alberta within the last decade?\n",
    "- What have been the trends in more granular hospital-based mental health data, and do those findings relate to the wider economic analysis and subgroup analysis?\n"
   ]
  },
  {
   "cell_type": "code",
   "execution_count": 1,
   "id": "65f19659",
   "metadata": {},
   "outputs": [],
   "source": [
    "import numpy as np\n",
    "import pandas as pd\n",
    "import matplotlib.pyplot as plt\n",
    "import os\n",
    "\n",
    "import plotly.express as px\n",
    "from plotly.subplots import make_subplots\n",
    "import ipywidgets as widgets\n",
    "from ipywidgets import interact\n",
    "import plotly.graph_objs as go"
   ]
  },
  {
   "cell_type": "markdown",
   "id": "56e06779",
   "metadata": {},
   "source": [
    "The original dataset that was provided by Stats Canada was a simple table with indicators such as 'perceived mental health' broken into eithr fair/poor or good/excellant. The datset likewise was broken up by year with values and year-to year percentage changes for eacha ge group. However, due the current structure, the data needed to be wrangled in order to provide a year to year change across the rows, with our indicators making up the columns. This willl requires the use of a tranpose as well as some trimming and merging in order to make this data table usable for the necessary analysis."
   ]
  },
  {
   "cell_type": "code",
   "execution_count": 2,
   "id": "cbf8b331",
   "metadata": {},
   "outputs": [],
   "source": [
    "main_MH =pd.read_csv(\"CanadaMentalHealth.csv\")\n",
    "main_MH[\"Title\"] = main_MH[\"Ag group\"] + main_MH[\"Indicators\"]\n",
    "main_MH.drop(columns = ['Ag group', 'Indicators'], inplace = True)\n",
    "main_MH = main_MH.transpose()\n",
    "main_MH.rename(columns=dict(main_MH.iloc[-1,:]), inplace = True)\n",
    "main_MH.drop(main_MH.tail(1).index,inplace=True)\n",
    "tempDF = main_MH.iloc[6:12,]\n",
    "tempDF.index = range(2015,2021)\n",
    "tempDF.columns=['%Total+', '%Total-','%1217+', '%1217-','%1834+', '%1834-','%3549+', '%3549-', '%5064+', '%5064-', '%65+', '%65-']\n",
    "main_MH = main_MH.drop(main_MH.tail(6).index)\n",
    "main_MH['year'] = main_MH.index\n",
    "tempDF['year'] = tempDF.index\n",
    "tempDF['year'] = tempDF['year'].astype('int64')\n",
    "main_MH['year'] = main_MH['year'].astype('int64')\n",
    "main_MH = main_MH.merge(tempDF, on='year')\n",
    "main_MH.index = range(2015,2021)"
   ]
  },
  {
   "cell_type": "markdown",
   "id": "8fbe8bc9",
   "metadata": {},
   "source": [
    "When looking for additional data and information to accompany the above dataset, we managed to come across a more accurate data set that provided more infomration already provided in a usable format. Likewise, this data set provided more infomration that provided a deeper understadning of current mental health makeup such as 'Perceived health' and 'Perceived life stress'. With this in mind, it wa decided that the below dataset would replace the previously used dataset and the 'main' mental health dataset. The previous dataset is kept as there is still usefull information that is usable later on within the report, such as the precent change in percevied mental health. Reported below is the avaiable information from the new data set."
   ]
  },
  {
   "cell_type": "code",
   "execution_count": 3,
   "id": "3621a9fe",
   "metadata": {},
   "outputs": [
    {
     "data": {
      "text/plain": [
       "array(['Contact with a medical doctor in the past 12 months',\n",
       "       'Current smoker, daily', 'Current smoker, daily or occasional',\n",
       "       'Heavy drinking', 'Life satisfaction, satisfied or very satisfied',\n",
       "       'Mood disorder', 'Perceived health, fair or poor',\n",
       "       'Perceived health, very good or excellent',\n",
       "       'Perceived life stress, most days quite a bit or extremely stressful',\n",
       "       'Perceived mental health, fair or poor',\n",
       "       'Perceived mental health, very good or excellent',\n",
       "       'Sense of belonging to local community, somewhat strong or very strong'],\n",
       "      dtype=object)"
      ]
     },
     "execution_count": 3,
     "metadata": {},
     "output_type": "execute_result"
    }
   ],
   "source": [
    "reportedMH = pd.read_csv(\"Alberta_StatCan_MentalHealthData.csv\")\n",
    "\n",
    "\n",
    "reportedMH_agg = reportedMH.groupby(['REF_DATE', 'Age group', 'Indicators']).sum().drop(['UOM_ID', 'SCALAR_ID','SYMBOL',  'TERMINATED', 'DECIMALS'], axis = 1)\n",
    "reportedMH_agg.reset_index(inplace=True)\n",
    "\n",
    "reportedMH_agg['Indicators'].unique()"
   ]
  },
  {
   "cell_type": "markdown",
   "id": "d1b05315",
   "metadata": {},
   "source": [
    "With the goal of understanding the general economic trends within Alberta overall, data provided by the Governement of Alberta was utilized and aggregated on a year to year basis in order to compare similar trends to the above mental health data. The Alberta Acitivty Index is a monthly weighted average of 9 different indicators (employment, average weekly earnings, retail trade, wholesale trade, manufacturing, new truck sales, housing starts, rigs drilling and oil production). This data provides a reference for very genereal economic trends within Alberta, but deeper econimic impacts will be explored later in this report. The data is trimmed down for \n",
    "\n",
    "https://open.alberta.ca/opendata/alberta-activity-index-data-tables"
   ]
  },
  {
   "cell_type": "code",
   "execution_count": 18,
   "id": "ea32ebc4",
   "metadata": {
    "scrolled": true
   },
   "outputs": [
    {
     "data": {
      "text/html": [
       "<div>\n",
       "<style scoped>\n",
       "    .dataframe tbody tr th:only-of-type {\n",
       "        vertical-align: middle;\n",
       "    }\n",
       "\n",
       "    .dataframe tbody tr th {\n",
       "        vertical-align: top;\n",
       "    }\n",
       "\n",
       "    .dataframe thead th {\n",
       "        text-align: right;\n",
       "    }\n",
       "</style>\n",
       "<table border=\"1\" class=\"dataframe\">\n",
       "  <thead>\n",
       "    <tr style=\"text-align: right;\">\n",
       "      <th></th>\n",
       "      <th>year</th>\n",
       "      <th>AA</th>\n",
       "    </tr>\n",
       "  </thead>\n",
       "  <tbody>\n",
       "    <tr>\n",
       "      <th>0</th>\n",
       "      <td>2015</td>\n",
       "      <td>274.412729</td>\n",
       "    </tr>\n",
       "    <tr>\n",
       "      <th>1</th>\n",
       "      <td>2016</td>\n",
       "      <td>262.841788</td>\n",
       "    </tr>\n",
       "    <tr>\n",
       "      <th>2</th>\n",
       "      <td>2017</td>\n",
       "      <td>278.215630</td>\n",
       "    </tr>\n",
       "    <tr>\n",
       "      <th>3</th>\n",
       "      <td>2018</td>\n",
       "      <td>284.736207</td>\n",
       "    </tr>\n",
       "    <tr>\n",
       "      <th>4</th>\n",
       "      <td>2019</td>\n",
       "      <td>283.664514</td>\n",
       "    </tr>\n",
       "    <tr>\n",
       "      <th>5</th>\n",
       "      <td>2020</td>\n",
       "      <td>268.912193</td>\n",
       "    </tr>\n",
       "  </tbody>\n",
       "</table>\n",
       "</div>"
      ],
      "text/plain": [
       "   year          AA\n",
       "0  2015  274.412729\n",
       "1  2016  262.841788\n",
       "2  2017  278.215630\n",
       "3  2018  284.736207\n",
       "4  2019  283.664514\n",
       "5  2020  268.912193"
      ]
     },
     "execution_count": 18,
     "metadata": {},
     "output_type": "execute_result"
    }
   ],
   "source": [
    "AA = pd.read_excel(\"ActivityIndex.xlsx\")\n",
    "AA.dropna(axis=1, inplace=True)\n",
    "AA['year'] = pd.DatetimeIndex(AA['Date']).year\n",
    "AA['month'] = pd.DatetimeIndex(AA['Date']).month\n",
    "#AA = AA.groupby('year', as_index=False).aggregate('mean').drop(['month'], axis = 1)\n",
    "AA.columns=['date', 'AA', 'year', 'month']\n",
    "AA = AA[AA['year'] >= 2015]\n",
    "AA =  AA[AA['year'] < 2021]\n",
    "AA.groupby('year', as_index=False).aggregate('mean').drop(['month'], axis = 1)"
   ]
  },
  {
   "cell_type": "markdown",
   "id": "db52eaef",
   "metadata": {},
   "source": [
    "It is noted that within the general trend, or overall mean activity index for each year, starts with a dip in 2015 following the collapse of oil and gas. however, the econonmy recovered in later years, but saw gradual decline between 2018 and 2019, with a large dip in 2020 following the covid-19 pandemic.\n",
    "\n",
    "To compare these trends to those of general mental health trends, a 2x2 grid of line graphs will be created to represent overall trends in mental health and the economy. Specifically used to showcase mental health trends are 'Perceived life stress,' 'Perceived health,' and 'Perceived mental health.' These will be used in conjunction with the Alberta Acitivity Index provded above."
   ]
  },
  {
   "cell_type": "code",
   "execution_count": 16,
   "id": "397ef16c",
   "metadata": {},
   "outputs": [
    {
     "data": {
      "application/vnd.plotly.v1+json": {
       "config": {
        "plotlyServerURL": "https://plot.ly"
       },
       "data": [
        {
         "legendgroup": "12 to 17 years",
         "marker": {
          "color": "red"
         },
         "name": "12 to 17 years",
         "type": "scatter",
         "x": [
          2015,
          2016,
          2017,
          2018,
          2019,
          2020
         ],
         "xaxis": "x",
         "y": [
          35400,
          29500,
          26400,
          37200,
          36700,
          36000
         ],
         "yaxis": "y"
        },
        {
         "legendgroup": "18 to 34 years",
         "marker": {
          "color": "blue"
         },
         "name": "18 to 34 years",
         "type": "scatter",
         "x": [
          2015,
          2016,
          2017,
          2018,
          2019,
          2020
         ],
         "xaxis": "x",
         "y": [
          215000,
          235000,
          218400,
          192800,
          186000,
          223100
         ],
         "yaxis": "y"
        },
        {
         "legendgroup": "35 to 49 years",
         "marker": {
          "color": "green"
         },
         "name": "35 to 49 years",
         "type": "scatter",
         "x": [
          2015,
          2016,
          2017,
          2018,
          2019,
          2020
         ],
         "xaxis": "x",
         "y": [
          232500,
          254400,
          200800,
          259000,
          236900,
          264000
         ],
         "yaxis": "y"
        },
        {
         "legendgroup": "50 to 64 years",
         "marker": {
          "color": "black"
         },
         "name": "50 to 64 years",
         "type": "scatter",
         "x": [
          2015,
          2016,
          2017,
          2018,
          2019,
          2020
         ],
         "xaxis": "x",
         "y": [
          156100,
          199200,
          184300,
          177000,
          193800,
          171100
         ],
         "yaxis": "y"
        },
        {
         "legendgroup": "65 years and over",
         "marker": {
          "color": "orange"
         },
         "name": "65 years and over",
         "type": "scatter",
         "x": [
          2015,
          2016,
          2017,
          2018,
          2019,
          2020
         ],
         "xaxis": "x",
         "y": [
          58000,
          62400,
          68400,
          59800,
          63100,
          61600
         ],
         "yaxis": "y"
        },
        {
         "legendgroup": "12 to 17 years",
         "marker": {
          "color": "red"
         },
         "name": "12 to 17 years",
         "showlegend": false,
         "type": "scatter",
         "x": [
          2015,
          2016,
          2017,
          2018,
          2019,
          2020
         ],
         "xaxis": "x2",
         "y": [
          5800,
          19700,
          4300,
          5300,
          14200,
          0
         ],
         "yaxis": "y2"
        },
        {
         "legendgroup": "18 to 34 years",
         "marker": {
          "color": "blue"
         },
         "name": "18 to 34 years",
         "showlegend": false,
         "type": "scatter",
         "x": [
          2015,
          2016,
          2017,
          2018,
          2019,
          2020
         ],
         "xaxis": "x2",
         "y": [
          64200,
          72900,
          67600,
          73500,
          72600,
          78000
         ],
         "yaxis": "y2"
        },
        {
         "legendgroup": "35 to 49 years",
         "marker": {
          "color": "green"
         },
         "name": "35 to 49 years",
         "showlegend": false,
         "type": "scatter",
         "x": [
          2015,
          2016,
          2017,
          2018,
          2019,
          2020
         ],
         "xaxis": "x2",
         "y": [
          58600,
          65400,
          63400,
          83300,
          68800,
          89700
         ],
         "yaxis": "y2"
        },
        {
         "legendgroup": "50 to 64 years",
         "marker": {
          "color": "black"
         },
         "name": "50 to 64 years",
         "showlegend": false,
         "type": "scatter",
         "x": [
          2015,
          2016,
          2017,
          2018,
          2019,
          2020
         ],
         "xaxis": "x2",
         "y": [
          99900,
          116500,
          119300,
          114400,
          98700,
          104000
         ],
         "yaxis": "y2"
        },
        {
         "legendgroup": "65 years and over",
         "marker": {
          "color": "orange"
         },
         "name": "65 years and over",
         "showlegend": false,
         "type": "scatter",
         "x": [
          2015,
          2016,
          2017,
          2018,
          2019,
          2020
         ],
         "xaxis": "x2",
         "y": [
          83800,
          101600,
          101500,
          103300,
          106400,
          101900
         ],
         "yaxis": "y2"
        },
        {
         "legendgroup": "12 to 17 years",
         "marker": {
          "color": "red"
         },
         "name": "12 to 17 years",
         "showlegend": false,
         "type": "scatter",
         "x": [
          2015,
          2016,
          2017,
          2018,
          2019,
          2020
         ],
         "xaxis": "x3",
         "y": [
          203000,
          204100,
          206700,
          201700,
          202900,
          210900
         ],
         "yaxis": "y3"
        },
        {
         "legendgroup": "18 to 34 years",
         "marker": {
          "color": "blue"
         },
         "name": "18 to 34 years",
         "showlegend": false,
         "type": "scatter",
         "x": [
          2015,
          2016,
          2017,
          2018,
          2019,
          2020
         ],
         "xaxis": "x3",
         "y": [
          782600,
          760500,
          695400,
          682700,
          640800,
          624800
         ],
         "yaxis": "y3"
        },
        {
         "legendgroup": "35 to 49 years",
         "marker": {
          "color": "green"
         },
         "name": "35 to 49 years",
         "showlegend": false,
         "type": "scatter",
         "x": [
          2015,
          2016,
          2017,
          2018,
          2019,
          2020
         ],
         "xaxis": "x3",
         "y": [
          644800,
          667200,
          646500,
          642000,
          634000,
          573800
         ],
         "yaxis": "y3"
        },
        {
         "legendgroup": "50 to 64 years",
         "marker": {
          "color": "black"
         },
         "name": "50 to 64 years",
         "showlegend": false,
         "type": "scatter",
         "x": [
          2015,
          2016,
          2017,
          2018,
          2019,
          2020
         ],
         "xaxis": "x3",
         "y": [
          612000,
          560000,
          553300,
          555700,
          557900,
          536800
         ],
         "yaxis": "y3"
        },
        {
         "legendgroup": "65 years and over",
         "marker": {
          "color": "orange"
         },
         "name": "65 years and over",
         "showlegend": false,
         "type": "scatter",
         "x": [
          2015,
          2016,
          2017,
          2018,
          2019,
          2020
         ],
         "xaxis": "x3",
         "y": [
          312600,
          315100,
          328900,
          349500,
          359100,
          368000
         ],
         "yaxis": "y3"
        },
        {
         "name": "Alberta Economy",
         "showlegend": true,
         "type": "scatter",
         "x": [
          "2015-01-01T00:00:00",
          "2015-02-01T00:00:00",
          "2015-03-01T00:00:00",
          "2015-04-01T00:00:00",
          "2015-05-01T00:00:00",
          "2015-06-01T00:00:00",
          "2015-07-01T00:00:00",
          "2015-08-01T00:00:00",
          "2015-09-01T00:00:00",
          "2015-10-01T00:00:00",
          "2015-11-01T00:00:00",
          "2015-12-01T00:00:00",
          "2016-01-01T00:00:00",
          "2016-02-01T00:00:00",
          "2016-03-01T00:00:00",
          "2016-04-01T00:00:00",
          "2016-05-01T00:00:00",
          "2016-06-01T00:00:00",
          "2016-07-01T00:00:00",
          "2016-08-01T00:00:00",
          "2016-09-01T00:00:00",
          "2016-10-01T00:00:00",
          "2016-11-01T00:00:00",
          "2016-12-01T00:00:00",
          "2017-01-01T00:00:00",
          "2017-02-01T00:00:00",
          "2017-03-01T00:00:00",
          "2017-04-01T00:00:00",
          "2017-05-01T00:00:00",
          "2017-06-01T00:00:00",
          "2017-07-01T00:00:00",
          "2017-08-01T00:00:00",
          "2017-09-01T00:00:00",
          "2017-10-01T00:00:00",
          "2017-11-01T00:00:00",
          "2017-12-01T00:00:00",
          "2018-01-01T00:00:00",
          "2018-02-01T00:00:00",
          "2018-03-01T00:00:00",
          "2018-04-01T00:00:00",
          "2018-05-01T00:00:00",
          "2018-06-01T00:00:00",
          "2018-07-01T00:00:00",
          "2018-08-01T00:00:00",
          "2018-09-01T00:00:00",
          "2018-10-01T00:00:00",
          "2018-11-01T00:00:00",
          "2018-12-01T00:00:00",
          "2019-01-01T00:00:00",
          "2019-02-01T00:00:00",
          "2019-03-01T00:00:00",
          "2019-04-01T00:00:00",
          "2019-05-01T00:00:00",
          "2019-06-01T00:00:00",
          "2019-07-01T00:00:00",
          "2019-08-01T00:00:00",
          "2019-09-01T00:00:00",
          "2019-10-01T00:00:00",
          "2019-11-01T00:00:00",
          "2019-12-01T00:00:00",
          "2020-01-01T00:00:00",
          "2020-02-01T00:00:00",
          "2020-03-01T00:00:00",
          "2020-04-01T00:00:00",
          "2020-05-01T00:00:00",
          "2020-06-01T00:00:00",
          "2020-07-01T00:00:00",
          "2020-08-01T00:00:00",
          "2020-09-01T00:00:00",
          "2020-10-01T00:00:00",
          "2020-11-01T00:00:00",
          "2020-12-01T00:00:00"
         ],
         "xaxis": "x4",
         "y": [
          282.69705276694975,
          279.85884165347534,
          277.96459615985407,
          275.4048259128815,
          274.9168052403501,
          275.6824526029246,
          275.7052767293576,
          273.3789194138418,
          272.0077731718559,
          269.10652801297226,
          269.436813329993,
          266.7928645722908,
          263.76712704852577,
          265.2233423460129,
          259.90325703294815,
          263.2750075698073,
          254.05656457318858,
          257.68627599306984,
          260.91804707511307,
          262.43448918032783,
          263.90875480448767,
          263.10534545728143,
          269.00208837363215,
          270.82116143773555,
          269.51800641907664,
          273.73562957347735,
          277.445677414274,
          277.1250205139959,
          281.24106345347656,
          279.4855471005899,
          279.01895673751307,
          277.4413393029709,
          279.89877556644376,
          279.8828276134081,
          281.6031221376851,
          282.1915931784519,
          282.3405051087447,
          282.79174398073155,
          284.2230714994812,
          283.1959040272029,
          290.4814423087506,
          286.88499336594197,
          286.47461402866895,
          288.44571152603186,
          283.2994257147423,
          282.9580860064383,
          285.76739457617344,
          279.97158781703985,
          280.5318815980995,
          278.00788688116796,
          282.3363643990436,
          289.97601507919694,
          288.6949452871681,
          286.1542196766397,
          285.34710020923393,
          284.1392321409963,
          283.74999218070695,
          282.8153277580556,
          279.5782336124945,
          282.6429675818258,
          281.30359744217395,
          284.9472858657299,
          269.59713337928173,
          248.25157280715538,
          250.68084607220266,
          258.2452178151261,
          268.41226519774847,
          264.5113094951305,
          272.1610685284124,
          274.0505363478151,
          275.9831782273676,
          278.80229944909155
         ],
         "yaxis": "y4"
        }
       ],
       "layout": {
        "annotations": [
         {
          "font": {
           "size": 16
          },
          "showarrow": false,
          "text": "Reported Stess Most Days",
          "x": 0.225,
          "xanchor": "center",
          "xref": "paper",
          "y": 1,
          "yanchor": "bottom",
          "yref": "paper"
         },
         {
          "font": {
           "size": 16
          },
          "showarrow": false,
          "text": "Reported Poor Mental Health",
          "x": 0.775,
          "xanchor": "center",
          "xref": "paper",
          "y": 1,
          "yanchor": "bottom",
          "yref": "paper"
         },
         {
          "font": {
           "size": 16
          },
          "showarrow": false,
          "text": "Reported Good Mental Health",
          "x": 0.225,
          "xanchor": "center",
          "xref": "paper",
          "y": 0.375,
          "yanchor": "bottom",
          "yref": "paper"
         },
         {
          "font": {
           "size": 16
          },
          "showarrow": false,
          "text": "Alberta Economy",
          "x": 0.775,
          "xanchor": "center",
          "xref": "paper",
          "y": 0.375,
          "yanchor": "bottom",
          "yref": "paper"
         }
        ],
        "height": 800,
        "template": {
         "data": {
          "bar": [
           {
            "error_x": {
             "color": "#2a3f5f"
            },
            "error_y": {
             "color": "#2a3f5f"
            },
            "marker": {
             "line": {
              "color": "#E5ECF6",
              "width": 0.5
             },
             "pattern": {
              "fillmode": "overlay",
              "size": 10,
              "solidity": 0.2
             }
            },
            "type": "bar"
           }
          ],
          "barpolar": [
           {
            "marker": {
             "line": {
              "color": "#E5ECF6",
              "width": 0.5
             },
             "pattern": {
              "fillmode": "overlay",
              "size": 10,
              "solidity": 0.2
             }
            },
            "type": "barpolar"
           }
          ],
          "carpet": [
           {
            "aaxis": {
             "endlinecolor": "#2a3f5f",
             "gridcolor": "white",
             "linecolor": "white",
             "minorgridcolor": "white",
             "startlinecolor": "#2a3f5f"
            },
            "baxis": {
             "endlinecolor": "#2a3f5f",
             "gridcolor": "white",
             "linecolor": "white",
             "minorgridcolor": "white",
             "startlinecolor": "#2a3f5f"
            },
            "type": "carpet"
           }
          ],
          "choropleth": [
           {
            "colorbar": {
             "outlinewidth": 0,
             "ticks": ""
            },
            "type": "choropleth"
           }
          ],
          "contour": [
           {
            "colorbar": {
             "outlinewidth": 0,
             "ticks": ""
            },
            "colorscale": [
             [
              0,
              "#0d0887"
             ],
             [
              0.1111111111111111,
              "#46039f"
             ],
             [
              0.2222222222222222,
              "#7201a8"
             ],
             [
              0.3333333333333333,
              "#9c179e"
             ],
             [
              0.4444444444444444,
              "#bd3786"
             ],
             [
              0.5555555555555556,
              "#d8576b"
             ],
             [
              0.6666666666666666,
              "#ed7953"
             ],
             [
              0.7777777777777778,
              "#fb9f3a"
             ],
             [
              0.8888888888888888,
              "#fdca26"
             ],
             [
              1,
              "#f0f921"
             ]
            ],
            "type": "contour"
           }
          ],
          "contourcarpet": [
           {
            "colorbar": {
             "outlinewidth": 0,
             "ticks": ""
            },
            "type": "contourcarpet"
           }
          ],
          "heatmap": [
           {
            "colorbar": {
             "outlinewidth": 0,
             "ticks": ""
            },
            "colorscale": [
             [
              0,
              "#0d0887"
             ],
             [
              0.1111111111111111,
              "#46039f"
             ],
             [
              0.2222222222222222,
              "#7201a8"
             ],
             [
              0.3333333333333333,
              "#9c179e"
             ],
             [
              0.4444444444444444,
              "#bd3786"
             ],
             [
              0.5555555555555556,
              "#d8576b"
             ],
             [
              0.6666666666666666,
              "#ed7953"
             ],
             [
              0.7777777777777778,
              "#fb9f3a"
             ],
             [
              0.8888888888888888,
              "#fdca26"
             ],
             [
              1,
              "#f0f921"
             ]
            ],
            "type": "heatmap"
           }
          ],
          "heatmapgl": [
           {
            "colorbar": {
             "outlinewidth": 0,
             "ticks": ""
            },
            "colorscale": [
             [
              0,
              "#0d0887"
             ],
             [
              0.1111111111111111,
              "#46039f"
             ],
             [
              0.2222222222222222,
              "#7201a8"
             ],
             [
              0.3333333333333333,
              "#9c179e"
             ],
             [
              0.4444444444444444,
              "#bd3786"
             ],
             [
              0.5555555555555556,
              "#d8576b"
             ],
             [
              0.6666666666666666,
              "#ed7953"
             ],
             [
              0.7777777777777778,
              "#fb9f3a"
             ],
             [
              0.8888888888888888,
              "#fdca26"
             ],
             [
              1,
              "#f0f921"
             ]
            ],
            "type": "heatmapgl"
           }
          ],
          "histogram": [
           {
            "marker": {
             "pattern": {
              "fillmode": "overlay",
              "size": 10,
              "solidity": 0.2
             }
            },
            "type": "histogram"
           }
          ],
          "histogram2d": [
           {
            "colorbar": {
             "outlinewidth": 0,
             "ticks": ""
            },
            "colorscale": [
             [
              0,
              "#0d0887"
             ],
             [
              0.1111111111111111,
              "#46039f"
             ],
             [
              0.2222222222222222,
              "#7201a8"
             ],
             [
              0.3333333333333333,
              "#9c179e"
             ],
             [
              0.4444444444444444,
              "#bd3786"
             ],
             [
              0.5555555555555556,
              "#d8576b"
             ],
             [
              0.6666666666666666,
              "#ed7953"
             ],
             [
              0.7777777777777778,
              "#fb9f3a"
             ],
             [
              0.8888888888888888,
              "#fdca26"
             ],
             [
              1,
              "#f0f921"
             ]
            ],
            "type": "histogram2d"
           }
          ],
          "histogram2dcontour": [
           {
            "colorbar": {
             "outlinewidth": 0,
             "ticks": ""
            },
            "colorscale": [
             [
              0,
              "#0d0887"
             ],
             [
              0.1111111111111111,
              "#46039f"
             ],
             [
              0.2222222222222222,
              "#7201a8"
             ],
             [
              0.3333333333333333,
              "#9c179e"
             ],
             [
              0.4444444444444444,
              "#bd3786"
             ],
             [
              0.5555555555555556,
              "#d8576b"
             ],
             [
              0.6666666666666666,
              "#ed7953"
             ],
             [
              0.7777777777777778,
              "#fb9f3a"
             ],
             [
              0.8888888888888888,
              "#fdca26"
             ],
             [
              1,
              "#f0f921"
             ]
            ],
            "type": "histogram2dcontour"
           }
          ],
          "mesh3d": [
           {
            "colorbar": {
             "outlinewidth": 0,
             "ticks": ""
            },
            "type": "mesh3d"
           }
          ],
          "parcoords": [
           {
            "line": {
             "colorbar": {
              "outlinewidth": 0,
              "ticks": ""
             }
            },
            "type": "parcoords"
           }
          ],
          "pie": [
           {
            "automargin": true,
            "type": "pie"
           }
          ],
          "scatter": [
           {
            "marker": {
             "colorbar": {
              "outlinewidth": 0,
              "ticks": ""
             }
            },
            "type": "scatter"
           }
          ],
          "scatter3d": [
           {
            "line": {
             "colorbar": {
              "outlinewidth": 0,
              "ticks": ""
             }
            },
            "marker": {
             "colorbar": {
              "outlinewidth": 0,
              "ticks": ""
             }
            },
            "type": "scatter3d"
           }
          ],
          "scattercarpet": [
           {
            "marker": {
             "colorbar": {
              "outlinewidth": 0,
              "ticks": ""
             }
            },
            "type": "scattercarpet"
           }
          ],
          "scattergeo": [
           {
            "marker": {
             "colorbar": {
              "outlinewidth": 0,
              "ticks": ""
             }
            },
            "type": "scattergeo"
           }
          ],
          "scattergl": [
           {
            "marker": {
             "colorbar": {
              "outlinewidth": 0,
              "ticks": ""
             }
            },
            "type": "scattergl"
           }
          ],
          "scattermapbox": [
           {
            "marker": {
             "colorbar": {
              "outlinewidth": 0,
              "ticks": ""
             }
            },
            "type": "scattermapbox"
           }
          ],
          "scatterpolar": [
           {
            "marker": {
             "colorbar": {
              "outlinewidth": 0,
              "ticks": ""
             }
            },
            "type": "scatterpolar"
           }
          ],
          "scatterpolargl": [
           {
            "marker": {
             "colorbar": {
              "outlinewidth": 0,
              "ticks": ""
             }
            },
            "type": "scatterpolargl"
           }
          ],
          "scatterternary": [
           {
            "marker": {
             "colorbar": {
              "outlinewidth": 0,
              "ticks": ""
             }
            },
            "type": "scatterternary"
           }
          ],
          "surface": [
           {
            "colorbar": {
             "outlinewidth": 0,
             "ticks": ""
            },
            "colorscale": [
             [
              0,
              "#0d0887"
             ],
             [
              0.1111111111111111,
              "#46039f"
             ],
             [
              0.2222222222222222,
              "#7201a8"
             ],
             [
              0.3333333333333333,
              "#9c179e"
             ],
             [
              0.4444444444444444,
              "#bd3786"
             ],
             [
              0.5555555555555556,
              "#d8576b"
             ],
             [
              0.6666666666666666,
              "#ed7953"
             ],
             [
              0.7777777777777778,
              "#fb9f3a"
             ],
             [
              0.8888888888888888,
              "#fdca26"
             ],
             [
              1,
              "#f0f921"
             ]
            ],
            "type": "surface"
           }
          ],
          "table": [
           {
            "cells": {
             "fill": {
              "color": "#EBF0F8"
             },
             "line": {
              "color": "white"
             }
            },
            "header": {
             "fill": {
              "color": "#C8D4E3"
             },
             "line": {
              "color": "white"
             }
            },
            "type": "table"
           }
          ]
         },
         "layout": {
          "annotationdefaults": {
           "arrowcolor": "#2a3f5f",
           "arrowhead": 0,
           "arrowwidth": 1
          },
          "autotypenumbers": "strict",
          "coloraxis": {
           "colorbar": {
            "outlinewidth": 0,
            "ticks": ""
           }
          },
          "colorscale": {
           "diverging": [
            [
             0,
             "#8e0152"
            ],
            [
             0.1,
             "#c51b7d"
            ],
            [
             0.2,
             "#de77ae"
            ],
            [
             0.3,
             "#f1b6da"
            ],
            [
             0.4,
             "#fde0ef"
            ],
            [
             0.5,
             "#f7f7f7"
            ],
            [
             0.6,
             "#e6f5d0"
            ],
            [
             0.7,
             "#b8e186"
            ],
            [
             0.8,
             "#7fbc41"
            ],
            [
             0.9,
             "#4d9221"
            ],
            [
             1,
             "#276419"
            ]
           ],
           "sequential": [
            [
             0,
             "#0d0887"
            ],
            [
             0.1111111111111111,
             "#46039f"
            ],
            [
             0.2222222222222222,
             "#7201a8"
            ],
            [
             0.3333333333333333,
             "#9c179e"
            ],
            [
             0.4444444444444444,
             "#bd3786"
            ],
            [
             0.5555555555555556,
             "#d8576b"
            ],
            [
             0.6666666666666666,
             "#ed7953"
            ],
            [
             0.7777777777777778,
             "#fb9f3a"
            ],
            [
             0.8888888888888888,
             "#fdca26"
            ],
            [
             1,
             "#f0f921"
            ]
           ],
           "sequentialminus": [
            [
             0,
             "#0d0887"
            ],
            [
             0.1111111111111111,
             "#46039f"
            ],
            [
             0.2222222222222222,
             "#7201a8"
            ],
            [
             0.3333333333333333,
             "#9c179e"
            ],
            [
             0.4444444444444444,
             "#bd3786"
            ],
            [
             0.5555555555555556,
             "#d8576b"
            ],
            [
             0.6666666666666666,
             "#ed7953"
            ],
            [
             0.7777777777777778,
             "#fb9f3a"
            ],
            [
             0.8888888888888888,
             "#fdca26"
            ],
            [
             1,
             "#f0f921"
            ]
           ]
          },
          "colorway": [
           "#636efa",
           "#EF553B",
           "#00cc96",
           "#ab63fa",
           "#FFA15A",
           "#19d3f3",
           "#FF6692",
           "#B6E880",
           "#FF97FF",
           "#FECB52"
          ],
          "font": {
           "color": "#2a3f5f"
          },
          "geo": {
           "bgcolor": "white",
           "lakecolor": "white",
           "landcolor": "#E5ECF6",
           "showlakes": true,
           "showland": true,
           "subunitcolor": "white"
          },
          "hoverlabel": {
           "align": "left"
          },
          "hovermode": "closest",
          "mapbox": {
           "style": "light"
          },
          "paper_bgcolor": "white",
          "plot_bgcolor": "#E5ECF6",
          "polar": {
           "angularaxis": {
            "gridcolor": "white",
            "linecolor": "white",
            "ticks": ""
           },
           "bgcolor": "#E5ECF6",
           "radialaxis": {
            "gridcolor": "white",
            "linecolor": "white",
            "ticks": ""
           }
          },
          "scene": {
           "xaxis": {
            "backgroundcolor": "#E5ECF6",
            "gridcolor": "white",
            "gridwidth": 2,
            "linecolor": "white",
            "showbackground": true,
            "ticks": "",
            "zerolinecolor": "white"
           },
           "yaxis": {
            "backgroundcolor": "#E5ECF6",
            "gridcolor": "white",
            "gridwidth": 2,
            "linecolor": "white",
            "showbackground": true,
            "ticks": "",
            "zerolinecolor": "white"
           },
           "zaxis": {
            "backgroundcolor": "#E5ECF6",
            "gridcolor": "white",
            "gridwidth": 2,
            "linecolor": "white",
            "showbackground": true,
            "ticks": "",
            "zerolinecolor": "white"
           }
          },
          "shapedefaults": {
           "line": {
            "color": "#2a3f5f"
           }
          },
          "ternary": {
           "aaxis": {
            "gridcolor": "white",
            "linecolor": "white",
            "ticks": ""
           },
           "baxis": {
            "gridcolor": "white",
            "linecolor": "white",
            "ticks": ""
           },
           "bgcolor": "#E5ECF6",
           "caxis": {
            "gridcolor": "white",
            "linecolor": "white",
            "ticks": ""
           }
          },
          "title": {
           "x": 0.05
          },
          "xaxis": {
           "automargin": true,
           "gridcolor": "white",
           "linecolor": "white",
           "ticks": "",
           "title": {
            "standoff": 15
           },
           "zerolinecolor": "white",
           "zerolinewidth": 2
          },
          "yaxis": {
           "automargin": true,
           "gridcolor": "white",
           "linecolor": "white",
           "ticks": "",
           "title": {
            "standoff": 15
           },
           "zerolinecolor": "white",
           "zerolinewidth": 2
          }
         }
        },
        "title": {
         "text": "Mental Health Versus Alberta Economy"
        },
        "width": 800,
        "xaxis": {
         "anchor": "y",
         "domain": [
          0,
          0.45
         ]
        },
        "xaxis2": {
         "anchor": "y2",
         "domain": [
          0.55,
          1
         ]
        },
        "xaxis3": {
         "anchor": "y3",
         "domain": [
          0,
          0.45
         ]
        },
        "xaxis4": {
         "anchor": "y4",
         "domain": [
          0.55,
          1
         ]
        },
        "yaxis": {
         "anchor": "x",
         "domain": [
          0.625,
          1
         ]
        },
        "yaxis2": {
         "anchor": "x2",
         "domain": [
          0.625,
          1
         ]
        },
        "yaxis3": {
         "anchor": "x3",
         "domain": [
          0,
          0.375
         ]
        },
        "yaxis4": {
         "anchor": "x4",
         "domain": [
          0,
          0.375
         ]
        }
       }
      },
      "text/html": [
       "<div>                            <div id=\"c4e62de4-fbe3-4116-9c23-07a7172aa3c8\" class=\"plotly-graph-div\" style=\"height:800px; width:800px;\"></div>            <script type=\"text/javascript\">                require([\"plotly\"], function(Plotly) {                    window.PLOTLYENV=window.PLOTLYENV || {};                                    if (document.getElementById(\"c4e62de4-fbe3-4116-9c23-07a7172aa3c8\")) {                    Plotly.newPlot(                        \"c4e62de4-fbe3-4116-9c23-07a7172aa3c8\",                        [{\"legendgroup\":\"12 to 17 years\",\"marker\":{\"color\":\"red\"},\"name\":\"12 to 17 years\",\"type\":\"scatter\",\"x\":[2015,2016,2017,2018,2019,2020],\"xaxis\":\"x\",\"y\":[35400.0,29500.0,26400.0,37200.0,36700.0,36000.0],\"yaxis\":\"y\"},{\"legendgroup\":\"18 to 34 years\",\"marker\":{\"color\":\"blue\"},\"name\":\"18 to 34 years\",\"type\":\"scatter\",\"x\":[2015,2016,2017,2018,2019,2020],\"xaxis\":\"x\",\"y\":[215000.0,235000.0,218400.0,192800.0,186000.0,223100.0],\"yaxis\":\"y\"},{\"legendgroup\":\"35 to 49 years\",\"marker\":{\"color\":\"green\"},\"name\":\"35 to 49 years\",\"type\":\"scatter\",\"x\":[2015,2016,2017,2018,2019,2020],\"xaxis\":\"x\",\"y\":[232500.0,254400.0,200800.0,259000.0,236900.0,264000.0],\"yaxis\":\"y\"},{\"legendgroup\":\"50 to 64 years\",\"marker\":{\"color\":\"black\"},\"name\":\"50 to 64 years\",\"type\":\"scatter\",\"x\":[2015,2016,2017,2018,2019,2020],\"xaxis\":\"x\",\"y\":[156100.0,199200.0,184300.0,177000.0,193800.0,171100.0],\"yaxis\":\"y\"},{\"legendgroup\":\"65 years and over\",\"marker\":{\"color\":\"orange\"},\"name\":\"65 years and over\",\"type\":\"scatter\",\"x\":[2015,2016,2017,2018,2019,2020],\"xaxis\":\"x\",\"y\":[58000.0,62400.0,68400.0,59800.0,63100.0,61600.0],\"yaxis\":\"y\"},{\"legendgroup\":\"12 to 17 years\",\"marker\":{\"color\":\"red\"},\"name\":\"12 to 17 years\",\"showlegend\":false,\"type\":\"scatter\",\"x\":[2015,2016,2017,2018,2019,2020],\"xaxis\":\"x2\",\"y\":[5800.0,19700.0,4300.0,5300.0,14200.0,0.0],\"yaxis\":\"y2\"},{\"legendgroup\":\"18 to 34 years\",\"marker\":{\"color\":\"blue\"},\"name\":\"18 to 34 years\",\"showlegend\":false,\"type\":\"scatter\",\"x\":[2015,2016,2017,2018,2019,2020],\"xaxis\":\"x2\",\"y\":[64200.0,72900.0,67600.0,73500.0,72600.0,78000.0],\"yaxis\":\"y2\"},{\"legendgroup\":\"35 to 49 years\",\"marker\":{\"color\":\"green\"},\"name\":\"35 to 49 years\",\"showlegend\":false,\"type\":\"scatter\",\"x\":[2015,2016,2017,2018,2019,2020],\"xaxis\":\"x2\",\"y\":[58600.0,65400.0,63400.0,83300.0,68800.0,89700.0],\"yaxis\":\"y2\"},{\"legendgroup\":\"50 to 64 years\",\"marker\":{\"color\":\"black\"},\"name\":\"50 to 64 years\",\"showlegend\":false,\"type\":\"scatter\",\"x\":[2015,2016,2017,2018,2019,2020],\"xaxis\":\"x2\",\"y\":[99900.0,116500.0,119300.0,114400.0,98700.0,104000.0],\"yaxis\":\"y2\"},{\"legendgroup\":\"65 years and over\",\"marker\":{\"color\":\"orange\"},\"name\":\"65 years and over\",\"showlegend\":false,\"type\":\"scatter\",\"x\":[2015,2016,2017,2018,2019,2020],\"xaxis\":\"x2\",\"y\":[83800.0,101600.0,101500.0,103300.0,106400.0,101900.0],\"yaxis\":\"y2\"},{\"legendgroup\":\"12 to 17 years\",\"marker\":{\"color\":\"red\"},\"name\":\"12 to 17 years\",\"showlegend\":false,\"type\":\"scatter\",\"x\":[2015,2016,2017,2018,2019,2020],\"xaxis\":\"x3\",\"y\":[203000.0,204100.0,206700.0,201700.0,202900.0,210900.0],\"yaxis\":\"y3\"},{\"legendgroup\":\"18 to 34 years\",\"marker\":{\"color\":\"blue\"},\"name\":\"18 to 34 years\",\"showlegend\":false,\"type\":\"scatter\",\"x\":[2015,2016,2017,2018,2019,2020],\"xaxis\":\"x3\",\"y\":[782600.0,760500.0,695400.0,682700.0,640800.0,624800.0],\"yaxis\":\"y3\"},{\"legendgroup\":\"35 to 49 years\",\"marker\":{\"color\":\"green\"},\"name\":\"35 to 49 years\",\"showlegend\":false,\"type\":\"scatter\",\"x\":[2015,2016,2017,2018,2019,2020],\"xaxis\":\"x3\",\"y\":[644800.0,667200.0,646500.0,642000.0,634000.0,573800.0],\"yaxis\":\"y3\"},{\"legendgroup\":\"50 to 64 years\",\"marker\":{\"color\":\"black\"},\"name\":\"50 to 64 years\",\"showlegend\":false,\"type\":\"scatter\",\"x\":[2015,2016,2017,2018,2019,2020],\"xaxis\":\"x3\",\"y\":[612000.0,560000.0,553300.0,555700.0,557900.0,536800.0],\"yaxis\":\"y3\"},{\"legendgroup\":\"65 years and over\",\"marker\":{\"color\":\"orange\"},\"name\":\"65 years and over\",\"showlegend\":false,\"type\":\"scatter\",\"x\":[2015,2016,2017,2018,2019,2020],\"xaxis\":\"x3\",\"y\":[312600.0,315100.0,328900.0,349500.0,359100.0,368000.0],\"yaxis\":\"y3\"},{\"name\":\"Alberta Economy\",\"showlegend\":true,\"type\":\"scatter\",\"x\":[\"2015-01-01T00:00:00\",\"2015-02-01T00:00:00\",\"2015-03-01T00:00:00\",\"2015-04-01T00:00:00\",\"2015-05-01T00:00:00\",\"2015-06-01T00:00:00\",\"2015-07-01T00:00:00\",\"2015-08-01T00:00:00\",\"2015-09-01T00:00:00\",\"2015-10-01T00:00:00\",\"2015-11-01T00:00:00\",\"2015-12-01T00:00:00\",\"2016-01-01T00:00:00\",\"2016-02-01T00:00:00\",\"2016-03-01T00:00:00\",\"2016-04-01T00:00:00\",\"2016-05-01T00:00:00\",\"2016-06-01T00:00:00\",\"2016-07-01T00:00:00\",\"2016-08-01T00:00:00\",\"2016-09-01T00:00:00\",\"2016-10-01T00:00:00\",\"2016-11-01T00:00:00\",\"2016-12-01T00:00:00\",\"2017-01-01T00:00:00\",\"2017-02-01T00:00:00\",\"2017-03-01T00:00:00\",\"2017-04-01T00:00:00\",\"2017-05-01T00:00:00\",\"2017-06-01T00:00:00\",\"2017-07-01T00:00:00\",\"2017-08-01T00:00:00\",\"2017-09-01T00:00:00\",\"2017-10-01T00:00:00\",\"2017-11-01T00:00:00\",\"2017-12-01T00:00:00\",\"2018-01-01T00:00:00\",\"2018-02-01T00:00:00\",\"2018-03-01T00:00:00\",\"2018-04-01T00:00:00\",\"2018-05-01T00:00:00\",\"2018-06-01T00:00:00\",\"2018-07-01T00:00:00\",\"2018-08-01T00:00:00\",\"2018-09-01T00:00:00\",\"2018-10-01T00:00:00\",\"2018-11-01T00:00:00\",\"2018-12-01T00:00:00\",\"2019-01-01T00:00:00\",\"2019-02-01T00:00:00\",\"2019-03-01T00:00:00\",\"2019-04-01T00:00:00\",\"2019-05-01T00:00:00\",\"2019-06-01T00:00:00\",\"2019-07-01T00:00:00\",\"2019-08-01T00:00:00\",\"2019-09-01T00:00:00\",\"2019-10-01T00:00:00\",\"2019-11-01T00:00:00\",\"2019-12-01T00:00:00\",\"2020-01-01T00:00:00\",\"2020-02-01T00:00:00\",\"2020-03-01T00:00:00\",\"2020-04-01T00:00:00\",\"2020-05-01T00:00:00\",\"2020-06-01T00:00:00\",\"2020-07-01T00:00:00\",\"2020-08-01T00:00:00\",\"2020-09-01T00:00:00\",\"2020-10-01T00:00:00\",\"2020-11-01T00:00:00\",\"2020-12-01T00:00:00\"],\"xaxis\":\"x4\",\"y\":[282.69705276694975,279.85884165347534,277.96459615985407,275.4048259128815,274.9168052403501,275.6824526029246,275.7052767293576,273.3789194138418,272.0077731718559,269.10652801297226,269.436813329993,266.7928645722908,263.76712704852577,265.2233423460129,259.90325703294815,263.2750075698073,254.05656457318858,257.68627599306984,260.91804707511307,262.43448918032783,263.90875480448767,263.10534545728143,269.00208837363215,270.82116143773555,269.51800641907664,273.73562957347735,277.445677414274,277.1250205139959,281.24106345347656,279.4855471005899,279.01895673751307,277.4413393029709,279.89877556644376,279.8828276134081,281.6031221376851,282.1915931784519,282.3405051087447,282.79174398073155,284.2230714994812,283.1959040272029,290.4814423087506,286.88499336594197,286.47461402866895,288.44571152603186,283.2994257147423,282.9580860064383,285.76739457617344,279.97158781703985,280.5318815980995,278.00788688116796,282.3363643990436,289.97601507919694,288.6949452871681,286.1542196766397,285.34710020923393,284.1392321409963,283.74999218070695,282.8153277580556,279.5782336124945,282.6429675818258,281.30359744217395,284.9472858657299,269.59713337928173,248.25157280715538,250.68084607220266,258.2452178151261,268.41226519774847,264.5113094951305,272.1610685284124,274.0505363478151,275.9831782273676,278.80229944909155],\"yaxis\":\"y4\"}],                        {\"annotations\":[{\"font\":{\"size\":16},\"showarrow\":false,\"text\":\"Reported Stess Most Days\",\"x\":0.225,\"xanchor\":\"center\",\"xref\":\"paper\",\"y\":1.0,\"yanchor\":\"bottom\",\"yref\":\"paper\"},{\"font\":{\"size\":16},\"showarrow\":false,\"text\":\"Reported Poor Mental Health\",\"x\":0.775,\"xanchor\":\"center\",\"xref\":\"paper\",\"y\":1.0,\"yanchor\":\"bottom\",\"yref\":\"paper\"},{\"font\":{\"size\":16},\"showarrow\":false,\"text\":\"Reported Good Mental Health\",\"x\":0.225,\"xanchor\":\"center\",\"xref\":\"paper\",\"y\":0.375,\"yanchor\":\"bottom\",\"yref\":\"paper\"},{\"font\":{\"size\":16},\"showarrow\":false,\"text\":\"Alberta Economy\",\"x\":0.775,\"xanchor\":\"center\",\"xref\":\"paper\",\"y\":0.375,\"yanchor\":\"bottom\",\"yref\":\"paper\"}],\"height\":800,\"template\":{\"data\":{\"bar\":[{\"error_x\":{\"color\":\"#2a3f5f\"},\"error_y\":{\"color\":\"#2a3f5f\"},\"marker\":{\"line\":{\"color\":\"#E5ECF6\",\"width\":0.5},\"pattern\":{\"fillmode\":\"overlay\",\"size\":10,\"solidity\":0.2}},\"type\":\"bar\"}],\"barpolar\":[{\"marker\":{\"line\":{\"color\":\"#E5ECF6\",\"width\":0.5},\"pattern\":{\"fillmode\":\"overlay\",\"size\":10,\"solidity\":0.2}},\"type\":\"barpolar\"}],\"carpet\":[{\"aaxis\":{\"endlinecolor\":\"#2a3f5f\",\"gridcolor\":\"white\",\"linecolor\":\"white\",\"minorgridcolor\":\"white\",\"startlinecolor\":\"#2a3f5f\"},\"baxis\":{\"endlinecolor\":\"#2a3f5f\",\"gridcolor\":\"white\",\"linecolor\":\"white\",\"minorgridcolor\":\"white\",\"startlinecolor\":\"#2a3f5f\"},\"type\":\"carpet\"}],\"choropleth\":[{\"colorbar\":{\"outlinewidth\":0,\"ticks\":\"\"},\"type\":\"choropleth\"}],\"contour\":[{\"colorbar\":{\"outlinewidth\":0,\"ticks\":\"\"},\"colorscale\":[[0.0,\"#0d0887\"],[0.1111111111111111,\"#46039f\"],[0.2222222222222222,\"#7201a8\"],[0.3333333333333333,\"#9c179e\"],[0.4444444444444444,\"#bd3786\"],[0.5555555555555556,\"#d8576b\"],[0.6666666666666666,\"#ed7953\"],[0.7777777777777778,\"#fb9f3a\"],[0.8888888888888888,\"#fdca26\"],[1.0,\"#f0f921\"]],\"type\":\"contour\"}],\"contourcarpet\":[{\"colorbar\":{\"outlinewidth\":0,\"ticks\":\"\"},\"type\":\"contourcarpet\"}],\"heatmap\":[{\"colorbar\":{\"outlinewidth\":0,\"ticks\":\"\"},\"colorscale\":[[0.0,\"#0d0887\"],[0.1111111111111111,\"#46039f\"],[0.2222222222222222,\"#7201a8\"],[0.3333333333333333,\"#9c179e\"],[0.4444444444444444,\"#bd3786\"],[0.5555555555555556,\"#d8576b\"],[0.6666666666666666,\"#ed7953\"],[0.7777777777777778,\"#fb9f3a\"],[0.8888888888888888,\"#fdca26\"],[1.0,\"#f0f921\"]],\"type\":\"heatmap\"}],\"heatmapgl\":[{\"colorbar\":{\"outlinewidth\":0,\"ticks\":\"\"},\"colorscale\":[[0.0,\"#0d0887\"],[0.1111111111111111,\"#46039f\"],[0.2222222222222222,\"#7201a8\"],[0.3333333333333333,\"#9c179e\"],[0.4444444444444444,\"#bd3786\"],[0.5555555555555556,\"#d8576b\"],[0.6666666666666666,\"#ed7953\"],[0.7777777777777778,\"#fb9f3a\"],[0.8888888888888888,\"#fdca26\"],[1.0,\"#f0f921\"]],\"type\":\"heatmapgl\"}],\"histogram\":[{\"marker\":{\"pattern\":{\"fillmode\":\"overlay\",\"size\":10,\"solidity\":0.2}},\"type\":\"histogram\"}],\"histogram2d\":[{\"colorbar\":{\"outlinewidth\":0,\"ticks\":\"\"},\"colorscale\":[[0.0,\"#0d0887\"],[0.1111111111111111,\"#46039f\"],[0.2222222222222222,\"#7201a8\"],[0.3333333333333333,\"#9c179e\"],[0.4444444444444444,\"#bd3786\"],[0.5555555555555556,\"#d8576b\"],[0.6666666666666666,\"#ed7953\"],[0.7777777777777778,\"#fb9f3a\"],[0.8888888888888888,\"#fdca26\"],[1.0,\"#f0f921\"]],\"type\":\"histogram2d\"}],\"histogram2dcontour\":[{\"colorbar\":{\"outlinewidth\":0,\"ticks\":\"\"},\"colorscale\":[[0.0,\"#0d0887\"],[0.1111111111111111,\"#46039f\"],[0.2222222222222222,\"#7201a8\"],[0.3333333333333333,\"#9c179e\"],[0.4444444444444444,\"#bd3786\"],[0.5555555555555556,\"#d8576b\"],[0.6666666666666666,\"#ed7953\"],[0.7777777777777778,\"#fb9f3a\"],[0.8888888888888888,\"#fdca26\"],[1.0,\"#f0f921\"]],\"type\":\"histogram2dcontour\"}],\"mesh3d\":[{\"colorbar\":{\"outlinewidth\":0,\"ticks\":\"\"},\"type\":\"mesh3d\"}],\"parcoords\":[{\"line\":{\"colorbar\":{\"outlinewidth\":0,\"ticks\":\"\"}},\"type\":\"parcoords\"}],\"pie\":[{\"automargin\":true,\"type\":\"pie\"}],\"scatter\":[{\"marker\":{\"colorbar\":{\"outlinewidth\":0,\"ticks\":\"\"}},\"type\":\"scatter\"}],\"scatter3d\":[{\"line\":{\"colorbar\":{\"outlinewidth\":0,\"ticks\":\"\"}},\"marker\":{\"colorbar\":{\"outlinewidth\":0,\"ticks\":\"\"}},\"type\":\"scatter3d\"}],\"scattercarpet\":[{\"marker\":{\"colorbar\":{\"outlinewidth\":0,\"ticks\":\"\"}},\"type\":\"scattercarpet\"}],\"scattergeo\":[{\"marker\":{\"colorbar\":{\"outlinewidth\":0,\"ticks\":\"\"}},\"type\":\"scattergeo\"}],\"scattergl\":[{\"marker\":{\"colorbar\":{\"outlinewidth\":0,\"ticks\":\"\"}},\"type\":\"scattergl\"}],\"scattermapbox\":[{\"marker\":{\"colorbar\":{\"outlinewidth\":0,\"ticks\":\"\"}},\"type\":\"scattermapbox\"}],\"scatterpolar\":[{\"marker\":{\"colorbar\":{\"outlinewidth\":0,\"ticks\":\"\"}},\"type\":\"scatterpolar\"}],\"scatterpolargl\":[{\"marker\":{\"colorbar\":{\"outlinewidth\":0,\"ticks\":\"\"}},\"type\":\"scatterpolargl\"}],\"scatterternary\":[{\"marker\":{\"colorbar\":{\"outlinewidth\":0,\"ticks\":\"\"}},\"type\":\"scatterternary\"}],\"surface\":[{\"colorbar\":{\"outlinewidth\":0,\"ticks\":\"\"},\"colorscale\":[[0.0,\"#0d0887\"],[0.1111111111111111,\"#46039f\"],[0.2222222222222222,\"#7201a8\"],[0.3333333333333333,\"#9c179e\"],[0.4444444444444444,\"#bd3786\"],[0.5555555555555556,\"#d8576b\"],[0.6666666666666666,\"#ed7953\"],[0.7777777777777778,\"#fb9f3a\"],[0.8888888888888888,\"#fdca26\"],[1.0,\"#f0f921\"]],\"type\":\"surface\"}],\"table\":[{\"cells\":{\"fill\":{\"color\":\"#EBF0F8\"},\"line\":{\"color\":\"white\"}},\"header\":{\"fill\":{\"color\":\"#C8D4E3\"},\"line\":{\"color\":\"white\"}},\"type\":\"table\"}]},\"layout\":{\"annotationdefaults\":{\"arrowcolor\":\"#2a3f5f\",\"arrowhead\":0,\"arrowwidth\":1},\"autotypenumbers\":\"strict\",\"coloraxis\":{\"colorbar\":{\"outlinewidth\":0,\"ticks\":\"\"}},\"colorscale\":{\"diverging\":[[0,\"#8e0152\"],[0.1,\"#c51b7d\"],[0.2,\"#de77ae\"],[0.3,\"#f1b6da\"],[0.4,\"#fde0ef\"],[0.5,\"#f7f7f7\"],[0.6,\"#e6f5d0\"],[0.7,\"#b8e186\"],[0.8,\"#7fbc41\"],[0.9,\"#4d9221\"],[1,\"#276419\"]],\"sequential\":[[0.0,\"#0d0887\"],[0.1111111111111111,\"#46039f\"],[0.2222222222222222,\"#7201a8\"],[0.3333333333333333,\"#9c179e\"],[0.4444444444444444,\"#bd3786\"],[0.5555555555555556,\"#d8576b\"],[0.6666666666666666,\"#ed7953\"],[0.7777777777777778,\"#fb9f3a\"],[0.8888888888888888,\"#fdca26\"],[1.0,\"#f0f921\"]],\"sequentialminus\":[[0.0,\"#0d0887\"],[0.1111111111111111,\"#46039f\"],[0.2222222222222222,\"#7201a8\"],[0.3333333333333333,\"#9c179e\"],[0.4444444444444444,\"#bd3786\"],[0.5555555555555556,\"#d8576b\"],[0.6666666666666666,\"#ed7953\"],[0.7777777777777778,\"#fb9f3a\"],[0.8888888888888888,\"#fdca26\"],[1.0,\"#f0f921\"]]},\"colorway\":[\"#636efa\",\"#EF553B\",\"#00cc96\",\"#ab63fa\",\"#FFA15A\",\"#19d3f3\",\"#FF6692\",\"#B6E880\",\"#FF97FF\",\"#FECB52\"],\"font\":{\"color\":\"#2a3f5f\"},\"geo\":{\"bgcolor\":\"white\",\"lakecolor\":\"white\",\"landcolor\":\"#E5ECF6\",\"showlakes\":true,\"showland\":true,\"subunitcolor\":\"white\"},\"hoverlabel\":{\"align\":\"left\"},\"hovermode\":\"closest\",\"mapbox\":{\"style\":\"light\"},\"paper_bgcolor\":\"white\",\"plot_bgcolor\":\"#E5ECF6\",\"polar\":{\"angularaxis\":{\"gridcolor\":\"white\",\"linecolor\":\"white\",\"ticks\":\"\"},\"bgcolor\":\"#E5ECF6\",\"radialaxis\":{\"gridcolor\":\"white\",\"linecolor\":\"white\",\"ticks\":\"\"}},\"scene\":{\"xaxis\":{\"backgroundcolor\":\"#E5ECF6\",\"gridcolor\":\"white\",\"gridwidth\":2,\"linecolor\":\"white\",\"showbackground\":true,\"ticks\":\"\",\"zerolinecolor\":\"white\"},\"yaxis\":{\"backgroundcolor\":\"#E5ECF6\",\"gridcolor\":\"white\",\"gridwidth\":2,\"linecolor\":\"white\",\"showbackground\":true,\"ticks\":\"\",\"zerolinecolor\":\"white\"},\"zaxis\":{\"backgroundcolor\":\"#E5ECF6\",\"gridcolor\":\"white\",\"gridwidth\":2,\"linecolor\":\"white\",\"showbackground\":true,\"ticks\":\"\",\"zerolinecolor\":\"white\"}},\"shapedefaults\":{\"line\":{\"color\":\"#2a3f5f\"}},\"ternary\":{\"aaxis\":{\"gridcolor\":\"white\",\"linecolor\":\"white\",\"ticks\":\"\"},\"baxis\":{\"gridcolor\":\"white\",\"linecolor\":\"white\",\"ticks\":\"\"},\"bgcolor\":\"#E5ECF6\",\"caxis\":{\"gridcolor\":\"white\",\"linecolor\":\"white\",\"ticks\":\"\"}},\"title\":{\"x\":0.05},\"xaxis\":{\"automargin\":true,\"gridcolor\":\"white\",\"linecolor\":\"white\",\"ticks\":\"\",\"title\":{\"standoff\":15},\"zerolinecolor\":\"white\",\"zerolinewidth\":2},\"yaxis\":{\"automargin\":true,\"gridcolor\":\"white\",\"linecolor\":\"white\",\"ticks\":\"\",\"title\":{\"standoff\":15},\"zerolinecolor\":\"white\",\"zerolinewidth\":2}}},\"title\":{\"text\":\"Mental Health Versus Alberta Economy\"},\"width\":800,\"xaxis\":{\"anchor\":\"y\",\"domain\":[0.0,0.45]},\"xaxis2\":{\"anchor\":\"y2\",\"domain\":[0.55,1.0]},\"xaxis3\":{\"anchor\":\"y3\",\"domain\":[0.0,0.45]},\"xaxis4\":{\"anchor\":\"y4\",\"domain\":[0.55,1.0]},\"yaxis\":{\"anchor\":\"x\",\"domain\":[0.625,1.0]},\"yaxis2\":{\"anchor\":\"x2\",\"domain\":[0.625,1.0]},\"yaxis3\":{\"anchor\":\"x3\",\"domain\":[0.0,0.375]},\"yaxis4\":{\"anchor\":\"x4\",\"domain\":[0.0,0.375]}},                        {\"responsive\": true}                    ).then(function(){\n",
       "                            \n",
       "var gd = document.getElementById('c4e62de4-fbe3-4116-9c23-07a7172aa3c8');\n",
       "var x = new MutationObserver(function (mutations, observer) {{\n",
       "        var display = window.getComputedStyle(gd).display;\n",
       "        if (!display || display === 'none') {{\n",
       "            console.log([gd, 'removed!']);\n",
       "            Plotly.purge(gd);\n",
       "            observer.disconnect();\n",
       "        }}\n",
       "}});\n",
       "\n",
       "// Listen for the removal of the full notebook cells\n",
       "var notebookContainer = gd.closest('#notebook-container');\n",
       "if (notebookContainer) {{\n",
       "    x.observe(notebookContainer, {childList: true});\n",
       "}}\n",
       "\n",
       "// Listen for the clearing of the current output cell\n",
       "var outputEl = gd.closest('.output');\n",
       "if (outputEl) {{\n",
       "    x.observe(outputEl, {childList: true});\n",
       "}}\n",
       "\n",
       "                        })                };                });            </script>        </div>"
      ]
     },
     "metadata": {},
     "output_type": "display_data"
    }
   ],
   "source": [
    "stress = reportedMH_agg[reportedMH_agg['Indicators'] == 'Perceived life stress, most days quite a bit or extremely stressful']\n",
    "poor = reportedMH_agg[reportedMH_agg['Indicators'] == 'Perceived health, fair or poor']\n",
    "good = reportedMH_agg[reportedMH_agg['Indicators'] == 'Perceived mental health, very good or excellent']\n",
    "\n",
    "Stackedfig = make_subplots(rows=2, cols=2)\n",
    "\n",
    "def addTraceMH(df = stress, age = '12 to 17 years', r = 1, c = 1, col = 'red', sl=True):\n",
    "    if sl == True:\n",
    "        Test.append_trace(go.Scatter(\n",
    "            x=df[df[\"Age group\"] == age]['REF_DATE'],\n",
    "            y=df[df[\"Age group\"] == age]['VALUE'],\n",
    "            name = age, legendgroup=age, marker=dict(color=col)), row=r, col=c)\n",
    "    else:\n",
    "        Test.append_trace(go.Scatter(\n",
    "            x=df[df[\"Age group\"] == age]['REF_DATE'],\n",
    "            y=df[df[\"Age group\"] == age]['VALUE'],\n",
    "            name = age, legendgroup=age, marker=dict(color=col), showlegend = False), row=r, col=c)\n",
    "        \n",
    "Test = make_subplots(rows=2, cols=2,\n",
    "                          subplot_titles=(\"Reported Stess Most Days\", \n",
    "                                          \"Reported Poor Mental Health\", \n",
    "                                          \"Reported Good Mental Health\", \n",
    "                                          \"Alberta Economy\"))\n",
    "# Reported stress \"most days quite a bit or extremely\"\n",
    "addTraceMH(df = stress, age = '12 to 17 years', r = 1, c = 1, col = 'red')\n",
    "addTraceMH(df = stress, age = '18 to 34 years', r = 1, c = 1, col = 'blue')\n",
    "addTraceMH(df = stress, age = '35 to 49 years', r = 1, c = 1, col = 'green')\n",
    "addTraceMH(df = stress, age = '50 to 64 years', r = 1, c = 1, col = 'black')\n",
    "addTraceMH(df = stress, age = '65 years and over', r = 1, c = 1, col = 'orange')\n",
    "\n",
    "# reported MH fair or poor\n",
    "addTraceMH(df = poor, age = '12 to 17 years', r = 1, c = 2, col = 'red', sl=False)\n",
    "addTraceMH(df = poor, age = '18 to 34 years', r = 1, c = 2, col = 'blue', sl=False)\n",
    "addTraceMH(df = poor, age = '35 to 49 years', r = 1, c = 2, col = 'green', sl=False)\n",
    "addTraceMH(df = poor, age = '50 to 64 years', r = 1, c = 2, col = 'black', sl=False)\n",
    "addTraceMH(df = poor, age = '65 years and over', r = 1, c = 2, col = 'orange', sl=False)\n",
    "\n",
    "# reported MH very good or excellent\n",
    "addTraceMH(df = good, age = '12 to 17 years', r = 2, c = 1, col = 'red', sl=False)\n",
    "addTraceMH(df = good, age = '18 to 34 years', r = 2, c = 1, col = 'blue', sl=False)\n",
    "addTraceMH(df = good, age = '35 to 49 years', r = 2, c = 1, col = 'green', sl=False)\n",
    "addTraceMH(df = good, age = '50 to 64 years', r = 2, c = 1, col = 'black', sl=False)\n",
    "addTraceMH(df = good, age = '65 years and over', r = 2, c = 1, col = 'orange', sl=False)\n",
    "\n",
    "\n",
    "Test.append_trace(go.Scatter(\n",
    "    x=AA['date'],\n",
    "    y=AA[\"AA\"],\n",
    "    name = 'Alberta Economy',\n",
    "    showlegend = True\n",
    "), row=2, col=2)\n",
    "\n",
    "Test.update_layout(height=800, width=800, title_text=\"Mental Health Versus Alberta Economy\")\n",
    "Test.show()"
   ]
  },
  {
   "cell_type": "markdown",
   "id": "eeb3a5fe",
   "metadata": {},
   "source": [
    "Albert'a Economy hit a peak in the year 2018 where we say a steady decrease in 2019 (with the exception of March and April 2019). The largest dip occured not in 2016 following the collapse of oil and gas, but in 2020 following the beginning of the covid-19 pandemic, with the index dropping roughly 40 points. Likewise, we see a gradual decrease in 'good' mental health reports for all aged 18-64, with no indication that economic troubles in 2018 through 2020 singaling a relationship with this group. However, for those between the age of 35-49, there are signals of rapid changes for both 'stressfull days' and 'poor' reports of mental health in both 2018 and 2020. All major working age groups liekwise reported more 'stressfull days' and 'poor' meantal health reprts following the 2016 collpase of oil and gas and the 2020 covid-19 pandemic.\n",
    "\n",
    "Although correlation does not infer casuation, it is hard to ignore the overall rises in stress and poor mental health reports following the 2 major economic collapses in Alberta within this past decade. Those ost liekly effected are those within the working age ranges of 18-64 that are most likely impacted by dramatic changes in overall economic activity. Those aged 50-64 have had more reports of 'poor' mental health than all other age ranges throughout the years, signalig that this age roup specifcally coulg be facing the largest burden of economic diffucult in the province, as this is typcially the age range with the most financial responsibility with kids in college, a mortage, and much more. Thus, they ahve shown that economic change are more liekly to push them into a poor mental health state as well as experiencing larger increases in those experiencing stressfull days around these times as well.\n",
    "\n",
    "Although the Alberta Activity index has been useful in identifying overall trends, the need for more specific information is needed in oder to definitively infer any influencial points within the economy. Data taken form Alberta's economic dashboard allows us to view provincial wide economic indicators throughout the years. We are interested in being able to visualize the mass amount of information provided in the best substettable format as possible. Below, we used the plotly library in an effort to create interactive graphs that will allow us to view all economic indicator information that we need in an effort to understand major economic trends throughout various sectors."
   ]
  },
  {
   "cell_type": "code",
   "execution_count": 7,
   "id": "572a9bfc",
   "metadata": {},
   "outputs": [
    {
     "name": "stderr",
     "output_type": "stream",
     "text": [
      "<ipython-input-7-898c7fe4a1b3>:12: SettingWithCopyWarning:\n",
      "\n",
      "\n",
      "A value is trying to be set on a copy of a slice from a DataFrame.\n",
      "Try using .loc[row_indexer,col_indexer] = value instead\n",
      "\n",
      "See the caveats in the documentation: https://pandas.pydata.org/pandas-docs/stable/user_guide/indexing.html#returning-a-view-versus-a-copy\n",
      "\n",
      "<ipython-input-7-898c7fe4a1b3>:15: SettingWithCopyWarning:\n",
      "\n",
      "\n",
      "A value is trying to be set on a copy of a slice from a DataFrame.\n",
      "Try using .loc[row_indexer,col_indexer] = value instead\n",
      "\n",
      "See the caveats in the documentation: https://pandas.pydata.org/pandas-docs/stable/user_guide/indexing.html#returning-a-view-versus-a-copy\n",
      "\n"
     ]
    }
   ],
   "source": [
    "## Economic Indicators\n",
    "\n",
    "econDF = pd.DataFrame(columns=['When','Alberta', 'Sector'])\n",
    "\n",
    "for files in os.listdir(\"Economic\"):\n",
    "    df = pd.read_csv(\"Economic/\" + files)\n",
    "    df['When'] = pd.to_datetime(df['When'])\n",
    "    tempDF = df[[\"When\", \"Alberta\"]] # Get When and Alberta columns\n",
    "    if files != 'Population.csv':\n",
    "        tempDF = tempDF.join(df.iloc[:,2], lsuffix='_left', rsuffix='_right') # Get second column\n",
    "    else:\n",
    "        tempDF['Pop'] = 'Population'\n",
    "        \n",
    "    tempDF.columns = [\"When\", \"Alberta\", \"SubSector\"]\n",
    "    tempDF['Sector'] = files.split('.')[0]\n",
    "    econDF = econDF.append(tempDF) # append to final df\n",
    "    \n",
    "econDF['Month'] = econDF['When'].dt.month\n",
    "econDF['Day'] = econDF['When'].dt.day\n",
    "econDF['Year'] = econDF['When'].dt.year\n",
    "\n",
    "econDF['Sector2'] = econDF['SubSector'].astype(str) + \" (\" + econDF['Sector'].astype(str) + \")\""
   ]
  },
  {
   "cell_type": "markdown",
   "id": "fcf42698",
   "metadata": {},
   "source": [
    "From Alberta's economc dashboard, data is broken up between sectors an well as subsectors. In order to identify key trends iwthin each sector, the following dashboard will help identfy key events throughout various sectors over the years. The hope find more granular conclusion from the previous used Alberta Index about gerneral economic trends in Alberta, while allowing for indivudal comparisons of subsectors within each sector, in a hope to identfy key economic indicators that pulled economic trends down in 2015, 2018, and 2020."
   ]
  },
  {
   "cell_type": "code",
   "execution_count": 20,
   "id": "54d24c64",
   "metadata": {},
   "outputs": [
    {
     "data": {
      "application/vnd.jupyter.widget-view+json": {
       "model_id": "bb19b72b738947e28880b86b7f061010",
       "version_major": 2,
       "version_minor": 0
      },
      "text/plain": [
       "interactive(children=(Dropdown(description='sector', options=('CattlePrice', 'NetMigration', 'Population', 'Pr…"
      ]
     },
     "metadata": {},
     "output_type": "display_data"
    },
    {
     "data": {
      "application/vnd.jupyter.widget-view+json": {
       "model_id": "29743e9c8343435687e456804288659f",
       "version_major": 2,
       "version_minor": 0
      },
      "text/plain": [
       "FigureWidget({\n",
       "    'data': [{'type': 'scatter',\n",
       "              'uid': 'f167f438-1d35-44ee-812c-53719c675c93',\n",
       " …"
      ]
     },
     "metadata": {},
     "output_type": "display_data"
    }
   ],
   "source": [
    "graphDF2 = econDF.groupby(['Year', 'Month', 'Sector']).mean().drop('Day', axis = 1)\n",
    "\n",
    "# Now let's explore the data with the help of a drop-down interactor.\n",
    "\n",
    "# Build a bar chart that we'll then update with the help of a call-back function\n",
    "li = go.Scatter()\n",
    "fig_line = go.FigureWidget(data=li)\n",
    "\n",
    "month_labels = {1:'Jan',2:'Feb',3:'Mar',4:'Apr',5:'May', 6:'Jun', 7:'Jul', 8:'Aug', 9:'Sep', 10:'Oct', 11:'Nov', 12:'Dec'}\n",
    "\n",
    "# A list passed to interact() will yield a drop-down interactor\n",
    "@interact(sector = list(econDF['Sector'].unique()))\n",
    "\n",
    "def update_bar(sector):\n",
    "    \n",
    "    graphDF2 = econDF[econDF['Sector'] == sector]\n",
    "    graphDF2 = graphDF2.groupby(['Year', 'SubSector']).mean().drop(['Day', 'Month'], axis = 1)\n",
    "    graphDF2.reset_index(inplace = True)\n",
    "    data = graphDF2\n",
    "    fig_line.update_traces()\n",
    "    fig_line.update_traces(x=[max(data['Year']),max(data['Year'])],\n",
    "                       y=[max(data['Alberta']),max(data['Alberta'])])\n",
    "    \n",
    "    for subsector in data['SubSector'].unique():\n",
    "        data1 = data[data['SubSector'] == subsector]\n",
    "        fig_line.add_trace(\n",
    "            go.Scatter(x=data1['Year'],\n",
    "                       y=data1['Alberta'],\n",
    "                      name = subsector))\n",
    "        \n",
    "    fig_line.update_layout(title_text=\"{0} results\".format(sector))\n",
    "    fig_line.update_layout(showlegend=False)\n",
    "\n",
    "fig_line"
   ]
  },
  {
   "cell_type": "markdown",
   "id": "126e577a",
   "metadata": {},
   "source": [
    "Some key trends that we are able to indentify are the rise is cattle prices in 2015, the rise of Oil prices starting in 2008, and unemployment take a slow upturn starting in 2008, with another spike in 2016, then 2020. All of these are inline with the hypothesized dates for economic downturn that offered significant challanges for residents of Alberta. the rise in these specific indicators are the summation of key livelihood indicators for city residents, food, transportation, and living arrangments. The significant spikes in these sectors suggest that we would see increases in metnal health related hosptilizations and so on during these significant years 2018, 2015, and 2020.\n",
    "\n",
    "\n",
    "Secondly, visualizing each individual sub-sector on a month to month basis will identify how individual subsectors fluctuate with time as well, this dives a level deeper comapred to the above bar graphs. This will allow us to backtrack to key dates in Alberta's economic history and track how differing sectors changed on a month to month basis. This will also allow us to visualize any interesting points our disperities that we notice from the above line plot for economic indicators."
   ]
  },
  {
   "cell_type": "code",
   "execution_count": 19,
   "id": "5c7c092a",
   "metadata": {
    "scrolled": true
   },
   "outputs": [
    {
     "data": {
      "application/vnd.jupyter.widget-view+json": {
       "model_id": "1efb2a77ed854ac6bacd43ae5b33c85f",
       "version_major": 2,
       "version_minor": 0
      },
      "text/plain": [
       "interactive(children=(Dropdown(description='sector', options=('Slaughter, calves (CattlePrice)', 'Slaughter, c…"
      ]
     },
     "metadata": {},
     "output_type": "display_data"
    },
    {
     "data": {
      "application/vnd.jupyter.widget-view+json": {
       "model_id": "5ecd4c906ff0438f891a4eb28f050c59",
       "version_major": 2,
       "version_minor": 0
      },
      "text/plain": [
       "FigureWidget({\n",
       "    'data': [{'type': 'bar',\n",
       "              'uid': 'd0db9295-a1ac-43c6-9f9b-abf8a6bdc102',\n",
       "     …"
      ]
     },
     "metadata": {},
     "output_type": "display_data"
    }
   ],
   "source": [
    "graphDF = econDF.groupby(['Year', 'Month', 'Sector']).mean().drop('Day', axis = 1)\n",
    "\n",
    "# Now let's explore the data with the help of a drop-down interactor.\n",
    "\n",
    "# Build a bar chart that we'll then update with the help of a call-back function\n",
    "bar = go.Bar()\n",
    "fig_bar = go.FigureWidget(data=bar)\n",
    "#fig_bar.update_yaxes(range=[0, 250])\n",
    "\n",
    "month_labels = {1:'Jan',2:'Feb',3:'Mar',4:'Apr',5:'May', 6:'Jun', 7:'Jul', 8:'Aug', 9:'Sep', 10:'Oct', 11:'Nov', 12:'Dec'}\n",
    "\n",
    "# A list passed to interact() will yield a drop-down interactor\n",
    "@interact(year=[*range(max(econDF['Year']),min(econDF['Year']),-1)],\n",
    "          sector = list(econDF['Sector2'].unique()))\n",
    "\n",
    "def update_bar(sector, year=2019):\n",
    "    graphDF =  econDF[econDF['Sector2'] == sector]\n",
    "    graphDF = graphDF.groupby(['Year', 'Month']).mean().drop('Day', axis = 1)\n",
    "\n",
    "    data = graphDF.loc[year].mean(axis=1,skipna=True)\n",
    "    fig_bar.update_traces(x=pd.Series(data.index.values).values, #.map(month_labels).values,\n",
    "                          y=data.values)\n",
    "    fig_bar.update_layout(title_text=\"{0} results for {1}\".format(sector, year))\n",
    "\n",
    "fig_bar"
   ]
  },
  {
   "cell_type": "markdown",
   "id": "f5ebaeea",
   "metadata": {},
   "source": [
    "Looking back on the key economic indicators from above, we find that although we saw singificant spikes for unemployment in the years 2009 and 2016, there was no key contributing month of the year. Both years saw a steady incline in unemployment through the whole year. Meanhwile, 2020 saw a siginficant spike in April due to the Covid-19 pandemic. Oil prices saw a dramic rise in 2009 with prices of WTI almost doubling from 40\\\\$ to 80\\\\$, with a the prices never really dipping below 60\\\\$ after that point. and lastly, we find that the price of cattle slaughter likewise had a gradual gain, peaking in May at 193\\\\$."
   ]
  },
  {
   "cell_type": "code",
   "execution_count": 6,
   "id": "f160f16b",
   "metadata": {},
   "outputs": [
    {
     "name": "stderr",
     "output_type": "stream",
     "text": [
      "c:\\users\\jonpe\\appdata\\local\\programs\\python\\python39\\lib\\site-packages\\openpyxl\\worksheet\\_reader.py:312: UserWarning:\n",
      "\n",
      "Data Validation extension is not supported and will be removed\n",
      "\n"
     ]
    },
    {
     "data": {
      "text/html": [
       "<div>\n",
       "<style scoped>\n",
       "    .dataframe tbody tr th:only-of-type {\n",
       "        vertical-align: middle;\n",
       "    }\n",
       "\n",
       "    .dataframe tbody tr th {\n",
       "        vertical-align: top;\n",
       "    }\n",
       "\n",
       "    .dataframe thead th {\n",
       "        text-align: right;\n",
       "    }\n",
       "</style>\n",
       "<table border=\"1\" class=\"dataframe\">\n",
       "  <thead>\n",
       "    <tr style=\"text-align: right;\">\n",
       "      <th></th>\n",
       "      <th>Hospital type</th>\n",
       "      <th>Province/territory</th>\n",
       "      <th>Median length of stay \\n(days)</th>\n",
       "      <th>Average length of stay \\n(days)</th>\n",
       "      <th>0.5% trimmed average \\n(days)</th>\n",
       "      <th>Total length of stay \\n(days)</th>\n",
       "      <th>year</th>\n",
       "    </tr>\n",
       "  </thead>\n",
       "  <tbody>\n",
       "    <tr>\n",
       "      <th>0</th>\n",
       "      <td>General hospitals</td>\n",
       "      <td>Newfoundland and Labrador</td>\n",
       "      <td>6</td>\n",
       "      <td>14.22</td>\n",
       "      <td>12.93</td>\n",
       "      <td>26157</td>\n",
       "      <td>2018</td>\n",
       "    </tr>\n",
       "  </tbody>\n",
       "</table>\n",
       "</div>"
      ],
      "text/plain": [
       "       Hospital type         Province/territory  \\\n",
       "0  General hospitals  Newfoundland and Labrador   \n",
       "\n",
       "  Median length of stay \\n(days) Average length of stay \\n(days)  \\\n",
       "0                              6                           14.22   \n",
       "\n",
       "  0.5% trimmed average \\n(days) Total length of stay \\n(days)  year  \n",
       "0                         12.93                         26157  2018  "
      ]
     },
     "metadata": {},
     "output_type": "display_data"
    }
   ],
   "source": [
    "## Hospital Data\n",
    "\n",
    "MH = pd.read_excel(\"HMHDB_Mental_Health.xlsx\", sheet_name=\"4 Combined LOS prov terr\")\n",
    "MH.rename(columns=dict(MH.loc[3,]), inplace = True)\n",
    "MH = MH.iloc[4:46]\n",
    "MH.dropna(axis=1, inplace = True)\n",
    "MH.reset_index(drop = True, inplace = True)\n",
    "MH['year'] = 2018\n",
    "display(MH.head(1))"
   ]
  }
 ],
 "metadata": {
  "kernelspec": {
   "display_name": "Python 3",
   "language": "python",
   "name": "python3"
  },
  "language_info": {
   "codemirror_mode": {
    "name": "ipython",
    "version": 3
   },
   "file_extension": ".py",
   "mimetype": "text/x-python",
   "name": "python",
   "nbconvert_exporter": "python",
   "pygments_lexer": "ipython3",
   "version": "3.9.6"
  }
 },
 "nbformat": 4,
 "nbformat_minor": 5
}
