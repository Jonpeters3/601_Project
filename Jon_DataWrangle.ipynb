{
 "cells": [
  {
   "cell_type": "code",
   "execution_count": 1,
   "id": "c95fa54c",
   "metadata": {},
   "outputs": [],
   "source": [
    "import pandas as pd\n",
    "import numpy as np\n",
    "import os"
   ]
  },
  {
   "cell_type": "code",
   "execution_count": 2,
   "id": "f0e6b9bd",
   "metadata": {},
   "outputs": [],
   "source": [
    "econDF = pd.DataFrame(columns=['When','Alberta', 'Sector'])\n",
    "\n",
    "for files in os.listdir(\"Economic\"):\n",
    "    df = pd.read_csv(\"Economic/\" + files)\n",
    "    df['When'] = pd.to_datetime(df['When'])\n",
    "    tempDF = df[[\"When\", \"Alberta\"]] # Get When and Alberta columns\n",
    "    tempDF = tempDF.join(df.iloc[:,2]) # Get second column\n",
    "    tempDF.columns = [\"When\", \"Alberta\", \"Sector\"]\n",
    "    econDF = econDF.append(tempDF) # append to final df"
   ]
  },
  {
   "cell_type": "code",
   "execution_count": 6,
   "id": "cd4a0a56",
   "metadata": {},
   "outputs": [
    {
     "data": {
      "text/html": [
       "<div>\n",
       "<style scoped>\n",
       "    .dataframe tbody tr th:only-of-type {\n",
       "        vertical-align: middle;\n",
       "    }\n",
       "\n",
       "    .dataframe tbody tr th {\n",
       "        vertical-align: top;\n",
       "    }\n",
       "\n",
       "    .dataframe thead th {\n",
       "        text-align: right;\n",
       "    }\n",
       "</style>\n",
       "<table border=\"1\" class=\"dataframe\">\n",
       "  <thead>\n",
       "    <tr style=\"text-align: right;\">\n",
       "      <th></th>\n",
       "      <th>When</th>\n",
       "      <th>Alberta</th>\n",
       "      <th>Sector</th>\n",
       "    </tr>\n",
       "  </thead>\n",
       "  <tbody>\n",
       "    <tr>\n",
       "      <th>0</th>\n",
       "      <td>1985-01-01</td>\n",
       "      <td>81.15</td>\n",
       "      <td>Slaughter, calves</td>\n",
       "    </tr>\n",
       "    <tr>\n",
       "      <th>1</th>\n",
       "      <td>1985-01-01</td>\n",
       "      <td>69.88</td>\n",
       "      <td>Slaughter, cattle</td>\n",
       "    </tr>\n",
       "    <tr>\n",
       "      <th>2</th>\n",
       "      <td>1985-01-01</td>\n",
       "      <td>69.53</td>\n",
       "      <td>Hogs</td>\n",
       "    </tr>\n",
       "    <tr>\n",
       "      <th>3</th>\n",
       "      <td>1985-02-01</td>\n",
       "      <td>82.94</td>\n",
       "      <td>Slaughter, calves</td>\n",
       "    </tr>\n",
       "    <tr>\n",
       "      <th>4</th>\n",
       "      <td>1985-02-01</td>\n",
       "      <td>71.24</td>\n",
       "      <td>Slaughter, cattle</td>\n",
       "    </tr>\n",
       "  </tbody>\n",
       "</table>\n",
       "</div>"
      ],
      "text/plain": [
       "        When  Alberta             Sector\n",
       "0 1985-01-01    81.15  Slaughter, calves\n",
       "1 1985-01-01    69.88  Slaughter, cattle\n",
       "2 1985-01-01    69.53               Hogs\n",
       "3 1985-02-01    82.94  Slaughter, calves\n",
       "4 1985-02-01    71.24  Slaughter, cattle"
      ]
     },
     "metadata": {},
     "output_type": "display_data"
    },
    {
     "data": {
      "text/html": [
       "<div>\n",
       "<style scoped>\n",
       "    .dataframe tbody tr th:only-of-type {\n",
       "        vertical-align: middle;\n",
       "    }\n",
       "\n",
       "    .dataframe tbody tr th {\n",
       "        vertical-align: top;\n",
       "    }\n",
       "\n",
       "    .dataframe thead th {\n",
       "        text-align: right;\n",
       "    }\n",
       "</style>\n",
       "<table border=\"1\" class=\"dataframe\">\n",
       "  <thead>\n",
       "    <tr style=\"text-align: right;\">\n",
       "      <th></th>\n",
       "      <th>When</th>\n",
       "      <th>Alberta</th>\n",
       "      <th>Sector</th>\n",
       "    </tr>\n",
       "  </thead>\n",
       "  <tbody>\n",
       "    <tr>\n",
       "      <th>4935</th>\n",
       "      <td>2021-07-01</td>\n",
       "      <td>1506.23</td>\n",
       "      <td>Public administration</td>\n",
       "    </tr>\n",
       "    <tr>\n",
       "      <th>4936</th>\n",
       "      <td>2021-07-01</td>\n",
       "      <td>1328.57</td>\n",
       "      <td>Real estate and rental and leasing</td>\n",
       "    </tr>\n",
       "    <tr>\n",
       "      <th>4937</th>\n",
       "      <td>2021-07-01</td>\n",
       "      <td>922.39</td>\n",
       "      <td>Trade</td>\n",
       "    </tr>\n",
       "    <tr>\n",
       "      <th>4938</th>\n",
       "      <td>2021-07-01</td>\n",
       "      <td>1361.01</td>\n",
       "      <td>Transportation and warehousing</td>\n",
       "    </tr>\n",
       "    <tr>\n",
       "      <th>4939</th>\n",
       "      <td>2021-07-01</td>\n",
       "      <td>1954.83</td>\n",
       "      <td>Utilities</td>\n",
       "    </tr>\n",
       "  </tbody>\n",
       "</table>\n",
       "</div>"
      ],
      "text/plain": [
       "           When  Alberta                              Sector\n",
       "4935 2021-07-01  1506.23               Public administration\n",
       "4936 2021-07-01  1328.57  Real estate and rental and leasing\n",
       "4937 2021-07-01   922.39                               Trade\n",
       "4938 2021-07-01  1361.01      Transportation and warehousing\n",
       "4939 2021-07-01  1954.83                           Utilities"
      ]
     },
     "metadata": {},
     "output_type": "display_data"
    }
   ],
   "source": [
    "display(econDF.head())\n",
    "display(econDF.tail())"
   ]
  }
 ],
 "metadata": {
  "kernelspec": {
   "display_name": "Python 3",
   "language": "python",
   "name": "python3"
  },
  "language_info": {
   "codemirror_mode": {
    "name": "ipython",
    "version": 3
   },
   "file_extension": ".py",
   "mimetype": "text/x-python",
   "name": "python",
   "nbconvert_exporter": "python",
   "pygments_lexer": "ipython3",
   "version": "3.9.6"
  }
 },
 "nbformat": 4,
 "nbformat_minor": 5
}
